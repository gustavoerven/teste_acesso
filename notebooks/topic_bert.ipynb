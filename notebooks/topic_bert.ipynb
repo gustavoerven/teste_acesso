{
 "cells": [
  {
   "cell_type": "code",
   "execution_count": 33,
   "id": "bd9e03cf-3f3e-48bb-8750-e43c18d7b43a",
   "metadata": {
    "tags": []
   },
   "outputs": [],
   "source": [
    "#https://towardsdatascience.com/topic-modeling-with-bert-779f7db187e6\n",
    "import pandas as pd\n",
    "from sentence_transformers import SentenceTransformer\n",
    "import umap\n",
    "import hdbscan\n",
    "import matplotlib.pyplot as plt\n",
    "import numpy as np\n",
    "from sklearn.feature_extraction.text import CountVectorizer\n",
    "import nltk\n"
   ]
  },
  {
   "cell_type": "code",
   "execution_count": 8,
   "id": "4208d80e-416e-459c-bcd8-60186d9b409b",
   "metadata": {
    "tags": []
   },
   "outputs": [
    {
     "data": {
      "text/html": [
       "<div>\n",
       "<style scoped>\n",
       "    .dataframe tbody tr th:only-of-type {\n",
       "        vertical-align: middle;\n",
       "    }\n",
       "\n",
       "    .dataframe tbody tr th {\n",
       "        vertical-align: top;\n",
       "    }\n",
       "\n",
       "    .dataframe thead th {\n",
       "        text-align: right;\n",
       "    }\n",
       "</style>\n",
       "<table border=\"1\" class=\"dataframe\">\n",
       "  <thead>\n",
       "    <tr style=\"text-align: right;\">\n",
       "      <th></th>\n",
       "      <th>IdPedido</th>\n",
       "      <th>TextoPedidoAgrupado</th>\n",
       "    </tr>\n",
       "  </thead>\n",
       "  <tbody>\n",
       "    <tr>\n",
       "      <th>1444</th>\n",
       "      <td>3907890</td>\n",
       "      <td>Acesso ao meu INSS  Não consigo acessar o meu ...</td>\n",
       "    </tr>\n",
       "    <tr>\n",
       "      <th>17965</th>\n",
       "      <td>1665586</td>\n",
       "      <td>Declaração final de Espolio de 2019 Como faço ...</td>\n",
       "    </tr>\n",
       "    <tr>\n",
       "      <th>56942</th>\n",
       "      <td>2184542</td>\n",
       "      <td>eu só tenho só você para perguntar se fiz dire...</td>\n",
       "    </tr>\n",
       "    <tr>\n",
       "      <th>8768</th>\n",
       "      <td>1998096</td>\n",
       "      <td>Minha bisavó era índia, existem documentos que...</td>\n",
       "    </tr>\n",
       "    <tr>\n",
       "      <th>39697</th>\n",
       "      <td>1553252</td>\n",
       "      <td>Como obter as Normais Climatológicas (Evapotra...</td>\n",
       "    </tr>\n",
       "  </tbody>\n",
       "</table>\n",
       "</div>"
      ],
      "text/plain": [
       "       IdPedido                                TextoPedidoAgrupado\n",
       "1444    3907890  Acesso ao meu INSS  Não consigo acessar o meu ...\n",
       "17965   1665586  Declaração final de Espolio de 2019 Como faço ...\n",
       "56942   2184542  eu só tenho só você para perguntar se fiz dire...\n",
       "8768    1998096  Minha bisavó era índia, existem documentos que...\n",
       "39697   1553252  Como obter as Normais Climatológicas (Evapotra..."
      ]
     },
     "execution_count": 8,
     "metadata": {},
     "output_type": "execute_result"
    }
   ],
   "source": [
    "df_pedidos = pd.read_pickle('dados/pedidos_texto.pkl').sample(1000)\n",
    "df_pedidos_txt = pd.DataFrame({'IdPedido': df_pedidos['IdPedido'], 'TextoPedidoAgrupado': df_pedidos['ResumoSolicitacao'].fillna('') + ' ' + df_pedidos['DetalhamentoSolicitacao'].fillna('')})\n",
    "df_pedidos_txt.head()\n"
   ]
  },
  {
   "cell_type": "code",
   "execution_count": 6,
   "id": "a0ff3fd8-8b2b-4bd1-81b4-e55b6d5228f4",
   "metadata": {
    "tags": []
   },
   "outputs": [],
   "source": [
    "model = SentenceTransformer('rufimelo/Legal-BERTimbau-sts-base-ma-v2')\n"
   ]
  },
  {
   "cell_type": "code",
   "execution_count": 9,
   "id": "9a970335-8689-4a92-be9a-2fae95f0b445",
   "metadata": {
    "tags": []
   },
   "outputs": [
    {
     "data": {
      "application/vnd.jupyter.widget-view+json": {
       "model_id": "f0f2e0b3b36d41649fe6d0e9025d3c38",
       "version_major": 2,
       "version_minor": 0
      },
      "text/plain": [
       "Batches:   0%|          | 0/32 [00:00<?, ?it/s]"
      ]
     },
     "metadata": {},
     "output_type": "display_data"
    }
   ],
   "source": [
    "embeddings = model.encode(list(df_pedidos_txt['TextoPedidoAgrupado']), show_progress_bar=True)\n"
   ]
  },
  {
   "cell_type": "code",
   "execution_count": 10,
   "id": "c06818d6-a67e-41ee-9c30-8a5458132bc9",
   "metadata": {
    "tags": []
   },
   "outputs": [
    {
     "data": {
      "text/plain": [
       "(1000, 768)"
      ]
     },
     "execution_count": 10,
     "metadata": {},
     "output_type": "execute_result"
    }
   ],
   "source": [
    "embeddings.shape\n"
   ]
  },
  {
   "cell_type": "code",
   "execution_count": 11,
   "id": "e3b92f1d-885e-4966-b2a6-ba8d58920d65",
   "metadata": {
    "tags": []
   },
   "outputs": [],
   "source": [
    "umap_embeddings = umap.UMAP(n_neighbors=15, \n",
    "                            n_components=5, \n",
    "                            metric='cosine').fit_transform(embeddings)"
   ]
  },
  {
   "cell_type": "code",
   "execution_count": 13,
   "id": "61b4d223-0d9a-4138-98f3-45920713bcf1",
   "metadata": {
    "tags": []
   },
   "outputs": [
    {
     "data": {
      "text/plain": [
       "(1000, 5)"
      ]
     },
     "execution_count": 13,
     "metadata": {},
     "output_type": "execute_result"
    }
   ],
   "source": [
    "umap_embeddings.shape"
   ]
  },
  {
   "cell_type": "code",
   "execution_count": 16,
   "id": "327e3556-18f2-49a7-827a-9d604e9bd1f2",
   "metadata": {
    "tags": []
   },
   "outputs": [],
   "source": [
    "cluster = hdbscan.HDBSCAN(min_cluster_size=15,\n",
    "                          metric='euclidean',                      \n",
    "                          cluster_selection_method='eom').fit(umap_embeddings)"
   ]
  },
  {
   "cell_type": "code",
   "execution_count": 19,
   "id": "a313e070-4838-4e85-9f3f-7e04d1e5c19d",
   "metadata": {
    "tags": []
   },
   "outputs": [
    {
     "data": {
      "text/plain": [
       "<matplotlib.colorbar.Colorbar at 0x7f6b00c08460>"
      ]
     },
     "execution_count": 19,
     "metadata": {},
     "output_type": "execute_result"
    },
    {
     "data": {
      "image/png": "[encoded data removed]",
      "text/plain": [
       "<Figure size 1000x500 with 2 Axes>"
      ]
     },
     "metadata": {},
     "output_type": "display_data"
    }
   ],
   "source": [
    "# Prepare data\n",
    "umap_data = umap.UMAP(n_neighbors=15, n_components=2, min_dist=0.0, metric='cosine').fit_transform(embeddings)\n",
    "result = pd.DataFrame(umap_data, columns=['x', 'y'])\n",
    "result['labels'] = cluster.labels_\n",
    "\n",
    "# Visualize clusters\n",
    "fig, ax = plt.subplots(figsize=(10, 5))\n",
    "outliers = result.loc[result.labels == -1, :]\n",
    "clustered = result.loc[result.labels != -1, :]\n",
    "plt.scatter(outliers.x, outliers.y, color='#BDBDBD', s=0.05)\n",
    "plt.scatter(clustered.x, clustered.y, c=clustered.labels, s=0.05, cmap='hsv_r')\n",
    "plt.colorbar()"
   ]
  },
  {
   "cell_type": "code",
   "execution_count": 22,
   "id": "cffd6280-a086-4752-a1d7-d20e16b0af8b",
   "metadata": {
    "tags": []
   },
   "outputs": [],
   "source": [
    "df_pedidos_txt['Topic'] = cluster.labels_\n",
    "docs_per_topic = df_pedidos_txt.groupby(['Topic'], as_index = False).agg({'TextoPedidoAgrupado': ' '.join})\n"
   ]
  },
  {
   "cell_type": "code",
   "execution_count": 25,
   "id": "372ce536-b88b-4502-b9aa-3a5b37ba5fdb",
   "metadata": {
    "tags": []
   },
   "outputs": [
    {
     "data": {
      "text/plain": [
       "-1    624\n",
       " 0     95\n",
       " 4     60\n",
       " 2     57\n",
       " 3     47\n",
       " 7     34\n",
       " 5     30\n",
       " 6     28\n",
       " 1     25\n",
       "Name: Topic, dtype: int64"
      ]
     },
     "execution_count": 25,
     "metadata": {},
     "output_type": "execute_result"
    }
   ],
   "source": [
    "df_pedidos_txt['Topic'].value_counts()"
   ]
  },
  {
   "cell_type": "code",
   "execution_count": 23,
   "id": "e83a6677-3243-4afa-b606-ccc51d283926",
   "metadata": {
    "tags": []
   },
   "outputs": [
    {
     "data": {
      "text/html": [
       "<div>\n",
       "<style scoped>\n",
       "    .dataframe tbody tr th:only-of-type {\n",
       "        vertical-align: middle;\n",
       "    }\n",
       "\n",
       "    .dataframe tbody tr th {\n",
       "        vertical-align: top;\n",
       "    }\n",
       "\n",
       "    .dataframe thead th {\n",
       "        text-align: right;\n",
       "    }\n",
       "</style>\n",
       "<table border=\"1\" class=\"dataframe\">\n",
       "  <thead>\n",
       "    <tr style=\"text-align: right;\">\n",
       "      <th></th>\n",
       "      <th>Topic</th>\n",
       "      <th>TextoPedidoAgrupado</th>\n",
       "    </tr>\n",
       "  </thead>\n",
       "  <tbody>\n",
       "    <tr>\n",
       "      <th>0</th>\n",
       "      <td>-1</td>\n",
       "      <td>Declaração final de Espolio de 2019 Como faço ...</td>\n",
       "    </tr>\n",
       "    <tr>\n",
       "      <th>1</th>\n",
       "      <td>0</td>\n",
       "      <td>Acesso ao meu INSS  Não consigo acessar o meu ...</td>\n",
       "    </tr>\n",
       "    <tr>\n",
       "      <th>2</th>\n",
       "      <td>1</td>\n",
       "      <td>OUVIDORIA SOLICITO INFORMAÇÃO SOBRE ANO EM QUE...</td>\n",
       "    </tr>\n",
       "    <tr>\n",
       "      <th>3</th>\n",
       "      <td>2</td>\n",
       "      <td>Solicitação das bases do SINAN-Tuberculose de ...</td>\n",
       "    </tr>\n",
       "    <tr>\n",
       "      <th>4</th>\n",
       "      <td>3</td>\n",
       "      <td>Gostaríamos de receber uma cópia do contrato S...</td>\n",
       "    </tr>\n",
       "    <tr>\n",
       "      <th>5</th>\n",
       "      <td>4</td>\n",
       "      <td>eu só tenho só você para perguntar se fiz dire...</td>\n",
       "    </tr>\n",
       "    <tr>\n",
       "      <th>6</th>\n",
       "      <td>5</td>\n",
       "      <td>Concurso Revisor Braille Solicito informação s...</td>\n",
       "    </tr>\n",
       "    <tr>\n",
       "      <th>7</th>\n",
       "      <td>6</td>\n",
       "      <td>Informações sobre o curso de Ciências Sociais ...</td>\n",
       "    </tr>\n",
       "    <tr>\n",
       "      <th>8</th>\n",
       "      <td>7</td>\n",
       "      <td>Atuação do Cargo de Pregoeiro na Universidade ...</td>\n",
       "    </tr>\n",
       "  </tbody>\n",
       "</table>\n",
       "</div>"
      ],
      "text/plain": [
       "   Topic                                TextoPedidoAgrupado\n",
       "0     -1  Declaração final de Espolio de 2019 Como faço ...\n",
       "1      0  Acesso ao meu INSS  Não consigo acessar o meu ...\n",
       "2      1  OUVIDORIA SOLICITO INFORMAÇÃO SOBRE ANO EM QUE...\n",
       "3      2  Solicitação das bases do SINAN-Tuberculose de ...\n",
       "4      3  Gostaríamos de receber uma cópia do contrato S...\n",
       "5      4  eu só tenho só você para perguntar se fiz dire...\n",
       "6      5  Concurso Revisor Braille Solicito informação s...\n",
       "7      6  Informações sobre o curso de Ciências Sociais ...\n",
       "8      7  Atuação do Cargo de Pregoeiro na Universidade ..."
      ]
     },
     "execution_count": 23,
     "metadata": {},
     "output_type": "execute_result"
    }
   ],
   "source": [
    "docs_per_topic"
   ]
  },
  {
   "cell_type": "code",
   "execution_count": 47,
   "id": "2263cdd7-d24f-4431-919d-1e9614a28dd6",
   "metadata": {
    "tags": []
   },
   "outputs": [],
   "source": [
    "def c_tf_idf(documents, m, ngram_range=(1, 1), stopwords=\"english\"):\n",
    "    count = CountVectorizer(ngram_range=ngram_range, stop_words=stopwords).fit(documents)\n",
    "    t = count.transform(documents).toarray()\n",
    "    w = t.sum(axis=1)\n",
    "    tf = np.divide(t.T, w)\n",
    "    sum_t = t.sum(axis=0)\n",
    "    idf = np.log(np.divide(m, sum_t)).reshape(-1, 1)\n",
    "    tf_idf = np.multiply(tf, idf)\n",
    "\n",
    "    return tf_idf, count\n",
    "  \n",
    "def extract_top_n_words_per_topic(tf_idf, count, docs_per_topic, n=20):\n",
    "    words = count.get_feature_names_out()\n",
    "    labels = list(docs_per_topic.Topic)\n",
    "    tf_idf_transposed = tf_idf.T\n",
    "    indices = tf_idf_transposed.argsort()[:, -n:]\n",
    "    top_n_words = {label: [(words[j], tf_idf_transposed[i][j]) for j in indices[i]][::-1] for i, label in enumerate(labels)}\n",
    "    return top_n_words\n",
    "\n",
    "def extract_topic_sizes(df):\n",
    "    topic_sizes = (df.groupby(['Topic'])\n",
    "                     .Doc\n",
    "                     .count()\n",
    "                     .reset_index()\n",
    "                     .rename({\"Topic\": \"Topic\", \"Doc\": \"Size\"}, axis='columns')\n",
    "                     .sort_values(\"Size\", ascending=False))\n",
    "    return topic_sizes\n"
   ]
  },
  {
   "cell_type": "code",
   "execution_count": 41,
   "id": "ac33fac5-e5ec-4479-8c48-1f136972a024",
   "metadata": {
    "tags": []
   },
   "outputs": [],
   "source": [
    "stopwords = nltk.corpus.stopwords.words('portuguese')\n",
    "tf_idf, count = c_tf_idf(docs_per_topic.TextoPedidoAgrupado.values, m=df_pedidos_txt.shape[0], stopwords=stopwords)\n"
   ]
  },
  {
   "cell_type": "code",
   "execution_count": 42,
   "id": "0c38c4e5-93c1-46e1-901f-82c6bd9ec343",
   "metadata": {
    "tags": []
   },
   "outputs": [
    {
     "data": {
      "text/plain": [
       "(10118, 9)"
      ]
     },
     "execution_count": 42,
     "metadata": {},
     "output_type": "execute_result"
    }
   ],
   "source": [
    "tf_idf.shape"
   ]
  },
  {
   "cell_type": "code",
   "execution_count": 44,
   "id": "386d552b-2d86-4a27-90ab-83992dd07491",
   "metadata": {
    "tags": []
   },
   "outputs": [
    {
     "data": {
      "text/html": [
       "<style>#sk-container-id-4 {color: black;background-color: white;}#sk-container-id-4 pre{padding: 0;}#sk-container-id-4 div.sk-toggleable {background-color: white;}#sk-container-id-4 label.sk-toggleable__label {cursor: pointer;display: block;width: 100%;margin-bottom: 0;padding: 0.3em;box-sizing: border-box;text-align: center;}#sk-container-id-4 label.sk-toggleable__label-arrow:before {content: \"▸\";float: left;margin-right: 0.25em;color: #696969;}#sk-container-id-4 label.sk-toggleable__label-arrow:hover:before {color: black;}#sk-container-id-4 div.sk-estimator:hover label.sk-toggleable__label-arrow:before {color: black;}#sk-container-id-4 div.sk-toggleable__content {max-height: 0;max-width: 0;overflow: hidden;text-align: left;background-color: #f0f8ff;}#sk-container-id-4 div.sk-toggleable__content pre {margin: 0.2em;color: black;border-radius: 0.25em;background-color: #f0f8ff;}#sk-container-id-4 input.sk-toggleable__control:checked~div.sk-toggleable__content {max-height: 200px;max-width: 100%;overflow: auto;}#sk-container-id-4 input.sk-toggleable__control:checked~label.sk-toggleable__label-arrow:before {content: \"▾\";}#sk-container-id-4 div.sk-estimator input.sk-toggleable__control:checked~label.sk-toggleable__label {background-color: #d4ebff;}#sk-container-id-4 div.sk-label input.sk-toggleable__control:checked~label.sk-toggleable__label {background-color: #d4ebff;}#sk-container-id-4 input.sk-hidden--visually {border: 0;clip: rect(1px 1px 1px 1px);clip: rect(1px, 1px, 1px, 1px);height: 1px;margin: -1px;overflow: hidden;padding: 0;position: absolute;width: 1px;}#sk-container-id-4 div.sk-estimator {font-family: monospace;background-color: #f0f8ff;border: 1px dotted black;border-radius: 0.25em;box-sizing: border-box;margin-bottom: 0.5em;}#sk-container-id-4 div.sk-estimator:hover {background-color: #d4ebff;}#sk-container-id-4 div.sk-parallel-item::after {content: \"\";width: 100%;border-bottom: 1px solid gray;flex-grow: 1;}#sk-container-id-4 div.sk-label:hover label.sk-toggleable__label {background-color: #d4ebff;}#sk-container-id-4 div.sk-serial::before {content: \"\";position: absolute;border-left: 1px solid gray;box-sizing: border-box;top: 0;bottom: 0;left: 50%;z-index: 0;}#sk-container-id-4 div.sk-serial {display: flex;flex-direction: column;align-items: center;background-color: white;padding-right: 0.2em;padding-left: 0.2em;position: relative;}#sk-container-id-4 div.sk-item {position: relative;z-index: 1;}#sk-container-id-4 div.sk-parallel {display: flex;align-items: stretch;justify-content: center;background-color: white;position: relative;}#sk-container-id-4 div.sk-item::before, #sk-container-id-4 div.sk-parallel-item::before {content: \"\";position: absolute;border-left: 1px solid gray;box-sizing: border-box;top: 0;bottom: 0;left: 50%;z-index: -1;}#sk-container-id-4 div.sk-parallel-item {display: flex;flex-direction: column;z-index: 1;position: relative;background-color: white;}#sk-container-id-4 div.sk-parallel-item:first-child::after {align-self: flex-end;width: 50%;}#sk-container-id-4 div.sk-parallel-item:last-child::after {align-self: flex-start;width: 50%;}#sk-container-id-4 div.sk-parallel-item:only-child::after {width: 0;}#sk-container-id-4 div.sk-dashed-wrapped {border: 1px dashed gray;margin: 0 0.4em 0.5em 0.4em;box-sizing: border-box;padding-bottom: 0.4em;background-color: white;}#sk-container-id-4 div.sk-label label {font-family: monospace;font-weight: bold;display: inline-block;line-height: 1.2em;}#sk-container-id-4 div.sk-label-container {text-align: center;}#sk-container-id-4 div.sk-container {/* jupyter's `normalize.less` sets `[hidden] { display: none; }` but bootstrap.min.css set `[hidden] { display: none !important; }` so we also need the `!important` here to be able to override the default hidden behavior on the sphinx rendered scikit-learn.org. See: https://github.com/scikit-learn/scikit-learn/issues/21755 */display: inline-block !important;position: relative;}#sk-container-id-4 div.sk-text-repr-fallback {display: none;}</style><div id=\"sk-container-id-4\" class=\"sk-top-container\"><div class=\"sk-text-repr-fallback\"><pre>CountVectorizer(stop_words=[&#x27;a&#x27;, &#x27;à&#x27;, &#x27;ao&#x27;, &#x27;aos&#x27;, &#x27;aquela&#x27;, &#x27;aquelas&#x27;,\n",
       "                            &#x27;aquele&#x27;, &#x27;aqueles&#x27;, &#x27;aquilo&#x27;, &#x27;as&#x27;, &#x27;às&#x27;, &#x27;até&#x27;,\n",
       "                            &#x27;com&#x27;, &#x27;como&#x27;, &#x27;da&#x27;, &#x27;das&#x27;, &#x27;de&#x27;, &#x27;dela&#x27;, &#x27;delas&#x27;,\n",
       "                            &#x27;dele&#x27;, &#x27;deles&#x27;, &#x27;depois&#x27;, &#x27;do&#x27;, &#x27;dos&#x27;, &#x27;e&#x27;, &#x27;é&#x27;,\n",
       "                            &#x27;ela&#x27;, &#x27;elas&#x27;, &#x27;ele&#x27;, &#x27;eles&#x27;, ...])</pre><b>In a Jupyter environment, please rerun this cell to show the HTML representation or trust the notebook. <br />On GitHub, the HTML representation is unable to render, please try loading this page with nbviewer.org.</b></div><div class=\"sk-container\" hidden><div class=\"sk-item\"><div class=\"sk-estimator sk-toggleable\"><input class=\"sk-toggleable__control sk-hidden--visually\" id=\"sk-estimator-id-4\" type=\"checkbox\" checked><label for=\"sk-estimator-id-4\" class=\"sk-toggleable__label sk-toggleable__label-arrow\">CountVectorizer</label><div class=\"sk-toggleable__content\"><pre>CountVectorizer(stop_words=[&#x27;a&#x27;, &#x27;à&#x27;, &#x27;ao&#x27;, &#x27;aos&#x27;, &#x27;aquela&#x27;, &#x27;aquelas&#x27;,\n",
       "                            &#x27;aquele&#x27;, &#x27;aqueles&#x27;, &#x27;aquilo&#x27;, &#x27;as&#x27;, &#x27;às&#x27;, &#x27;até&#x27;,\n",
       "                            &#x27;com&#x27;, &#x27;como&#x27;, &#x27;da&#x27;, &#x27;das&#x27;, &#x27;de&#x27;, &#x27;dela&#x27;, &#x27;delas&#x27;,\n",
       "                            &#x27;dele&#x27;, &#x27;deles&#x27;, &#x27;depois&#x27;, &#x27;do&#x27;, &#x27;dos&#x27;, &#x27;e&#x27;, &#x27;é&#x27;,\n",
       "                            &#x27;ela&#x27;, &#x27;elas&#x27;, &#x27;ele&#x27;, &#x27;eles&#x27;, ...])</pre></div></div></div></div></div>"
      ],
      "text/plain": [
       "CountVectorizer(stop_words=['a', 'à', 'ao', 'aos', 'aquela', 'aquelas',\n",
       "                            'aquele', 'aqueles', 'aquilo', 'as', 'às', 'até',\n",
       "                            'com', 'como', 'da', 'das', 'de', 'dela', 'delas',\n",
       "                            'dele', 'deles', 'depois', 'do', 'dos', 'e', 'é',\n",
       "                            'ela', 'elas', 'ele', 'eles', ...])"
      ]
     },
     "execution_count": 44,
     "metadata": {},
     "output_type": "execute_result"
    }
   ],
   "source": [
    "count"
   ]
  },
  {
   "cell_type": "code",
   "execution_count": 48,
   "id": "8775fdfb-fd0a-4fa9-bc8c-e11e5d4f4300",
   "metadata": {
    "tags": []
   },
   "outputs": [
    {
     "data": {
      "text/html": [
       "<div>\n",
       "<style scoped>\n",
       "    .dataframe tbody tr th:only-of-type {\n",
       "        vertical-align: middle;\n",
       "    }\n",
       "\n",
       "    .dataframe tbody tr th {\n",
       "        vertical-align: top;\n",
       "    }\n",
       "\n",
       "    .dataframe thead th {\n",
       "        text-align: right;\n",
       "    }\n",
       "</style>\n",
       "<table border=\"1\" class=\"dataframe\">\n",
       "  <thead>\n",
       "    <tr style=\"text-align: right;\">\n",
       "      <th></th>\n",
       "      <th>Topic</th>\n",
       "      <th>Size</th>\n",
       "    </tr>\n",
       "  </thead>\n",
       "  <tbody>\n",
       "    <tr>\n",
       "      <th>0</th>\n",
       "      <td>-1</td>\n",
       "      <td>0</td>\n",
       "    </tr>\n",
       "    <tr>\n",
       "      <th>1</th>\n",
       "      <td>0</td>\n",
       "      <td>0</td>\n",
       "    </tr>\n",
       "    <tr>\n",
       "      <th>2</th>\n",
       "      <td>1</td>\n",
       "      <td>0</td>\n",
       "    </tr>\n",
       "    <tr>\n",
       "      <th>3</th>\n",
       "      <td>2</td>\n",
       "      <td>0</td>\n",
       "    </tr>\n",
       "    <tr>\n",
       "      <th>4</th>\n",
       "      <td>3</td>\n",
       "      <td>0</td>\n",
       "    </tr>\n",
       "    <tr>\n",
       "      <th>5</th>\n",
       "      <td>4</td>\n",
       "      <td>0</td>\n",
       "    </tr>\n",
       "    <tr>\n",
       "      <th>6</th>\n",
       "      <td>5</td>\n",
       "      <td>0</td>\n",
       "    </tr>\n",
       "    <tr>\n",
       "      <th>7</th>\n",
       "      <td>6</td>\n",
       "      <td>0</td>\n",
       "    </tr>\n",
       "    <tr>\n",
       "      <th>8</th>\n",
       "      <td>7</td>\n",
       "      <td>0</td>\n",
       "    </tr>\n",
       "  </tbody>\n",
       "</table>\n",
       "</div>"
      ],
      "text/plain": [
       "   Topic  Size\n",
       "0     -1     0\n",
       "1      0     0\n",
       "2      1     0\n",
       "3      2     0\n",
       "4      3     0\n",
       "5      4     0\n",
       "6      5     0\n",
       "7      6     0\n",
       "8      7     0"
      ]
     },
     "execution_count": 48,
     "metadata": {},
     "output_type": "execute_result"
    }
   ],
   "source": [
    "top_n_words = extract_top_n_words_per_topic(tf_idf, count, docs_per_topic, n=20)\n",
    "topic_sizes = extract_topic_sizes(docs_df); topic_sizes.head(10)\n"
   ]
  },
  {
   "cell_type": "code",
   "execution_count": 49,
   "id": "c7a3803a-827f-4367-91d7-3f2fcd1c928c",
   "metadata": {
    "tags": []
   },
   "outputs": [
    {
     "data": {
      "text/plain": [
       "{-1: [('dados', 0.007945293103086812),\n",
       "  ('solicito', 0.007644537772965072),\n",
       "  ('sobre', 0.007463008909430829),\n",
       "  ('gostaria', 0.007291306900184531),\n",
       "  ('informações', 0.006960323795688674),\n",
       "  ('acesso', 0.0067333961162888934),\n",
       "  ('processo', 0.006712413476975189),\n",
       "  ('brasil', 0.006693928038927299),\n",
       "  ('informação', 0.006536483769445091),\n",
       "  ('nº', 0.0064921323294727835),\n",
       "  ('ano', 0.0063613473018586195),\n",
       "  ('prezados', 0.006334587345222824),\n",
       "  ('cópia', 0.006172190899636054),\n",
       "  ('contrato', 0.006139923440400547),\n",
       "  ('número', 0.006095638928492505),\n",
       "  ('2016', 0.006077196357876201),\n",
       "  ('documentos', 0.006023114531132034),\n",
       "  ('2015', 0.005857031157595814),\n",
       "  ('solicitação', 0.005856944535803294),\n",
       "  ('saber', 0.005803361631300623)],\n",
       " 0: [('auxílio', 0.03846275653557985),\n",
       "  ('emergencial', 0.03262746125091608),\n",
       "  ('pois', 0.028290861945799054),\n",
       "  ('renda', 0.02405748209963078),\n",
       "  ('saber', 0.023791810991289075),\n",
       "  ('auxilio', 0.019936449559358936),\n",
       "  ('parcela', 0.019337250053757096),\n",
       "  ('aposentadoria', 0.0191471956645865),\n",
       "  ('porque', 0.01873056501816145),\n",
       "  ('conta', 0.01808710765729235),\n",
       "  ('declaração', 0.017568632981262503),\n",
       "  ('preciso', 0.01699304321183865),\n",
       "  ('receber', 0.016417368286633215),\n",
       "  ('recebi', 0.015853926303812486),\n",
       "  ('fazer', 0.015625202659724398),\n",
       "  ('porém', 0.015155245809953645),\n",
       "  ('pra', 0.014961556435695344),\n",
       "  ('tempo', 0.014868912810358818),\n",
       "  ('vou', 0.014502937540317822),\n",
       "  ('bloqueado', 0.013907648730805864)],\n",
       " 1: [('scg', 0.03481154642935635),\n",
       "  ('aneel', 0.03084380818997224),\n",
       "  ('medicação', 0.02784923714348508),\n",
       "  ('visita', 0.025378784427344554),\n",
       "  ('vertente', 0.022900695099792485),\n",
       "  ('005664', 0.022900695099792485),\n",
       "  ('dctf', 0.022900695099792485),\n",
       "  ('cilindros', 0.022900695099792485),\n",
       "  ('certidão', 0.021416777581739398),\n",
       "  ('inventário', 0.020886927857613806),\n",
       "  ('administrativo', 0.019425174509860116),\n",
       "  ('consulta', 0.019177209148606194),\n",
       "  ('anexos', 0.018092086077174302),\n",
       "  ('processo', 0.017960777848213833),\n",
       "  ('beneficio', 0.017435671337164796),\n",
       "  ('incra', 0.016332741388757403),\n",
       "  ('glp', 0.016332741388757403),\n",
       "  ('costeira', 0.016332741388757403),\n",
       "  ('caleb', 0.016332741388757403),\n",
       "  ('todavia', 0.016332741388757403)],\n",
       " 2: [('dados', 0.019897397393041447),\n",
       "  ('pesquisa', 0.017607157026647162),\n",
       "  ('relação', 0.016546589705711174),\n",
       "  ('período', 0.016468619720173563),\n",
       "  ('artesanato', 0.0162704425353555),\n",
       "  ('empresas', 0.015640996028770972),\n",
       "  ('valor', 0.015200333670797516),\n",
       "  ('programa', 0.014763615013193574),\n",
       "  ('sobre', 0.01332769011444566),\n",
       "  ('projeto', 0.01311415707852791),\n",
       "  ('inovação', 0.013086137183834699),\n",
       "  ('município', 0.012149299718645363),\n",
       "  ('ano', 0.012111246104771019),\n",
       "  ('triênio', 0.011841358031397428),\n",
       "  ('brasileiro', 0.011661872448922509),\n",
       "  ('gostaria', 0.011462983513114552),\n",
       "  ('tempo', 0.010349763519656786),\n",
       "  ('alimentos', 0.010141426258105104),\n",
       "  ('pesquisadores', 0.010108434982072785),\n",
       "  ('área', 0.009730504237673163)],\n",
       " 3: [('cópia', 0.0336327453038767),\n",
       "  ('processo', 0.029991955189985636),\n",
       "  ('nº', 0.029886731265391615),\n",
       "  ('ltda', 0.02265841600120079),\n",
       "  ('copia', 0.021945468231198854),\n",
       "  ('prezados', 0.021208340418095457),\n",
       "  ('anexos', 0.020598560001091625),\n",
       "  ('contrato', 0.01949332882035585),\n",
       "  ('inteiro', 0.019291556733642513),\n",
       "  ('teor', 0.018527791983458382),\n",
       "  ('solução', 0.018272712510467127),\n",
       "  ('integral', 0.01747293233254652),\n",
       "  ('íntegra', 0.016387888113702585),\n",
       "  ('imetame', 0.015853732395416025),\n",
       "  ('assinados', 0.015308186145284506),\n",
       "  ('empresa', 0.015107606709148154),\n",
       "  ('acesso', 0.014251676571824239),\n",
       "  ('juntamente', 0.014094945247294786),\n",
       "  ('requerer', 0.013871572140964863),\n",
       "  ('sap', 0.01321714163461938)],\n",
       " 4: [('lei', 0.016121982860532857),\n",
       "  ('pedido', 0.011664979978337504),\n",
       "  ('acesso', 0.01063014034310854),\n",
       "  ('artigo', 0.010595130254212475),\n",
       "  ('12', 0.010502243325946046),\n",
       "  ('art', 0.010066659201502673),\n",
       "  ('informação', 0.00999944863586231),\n",
       "  ('data', 0.009212902469016217),\n",
       "  ('informações', 0.009210538719561274),\n",
       "  ('527', 0.009063584776973473),\n",
       "  ('sigilo', 0.008579100820165489),\n",
       "  ('2011', 0.008096981995016482),\n",
       "  ('silva', 0.008049743929570165),\n",
       "  ('multas', 0.007982702217427667),\n",
       "  ('01', 0.007842612142692537),\n",
       "  ('federal', 0.007712688216259946),\n",
       "  ('qualquer', 0.007568304118617832),\n",
       "  ('facebook', 0.007483783328838437),\n",
       "  ('nº', 0.007364362541231058),\n",
       "  ('transparência', 0.0071349983075516986)],\n",
       " 5: [('vagas', 0.04872707838517762),\n",
       "  ('concurso', 0.046629056109641895),\n",
       "  ('vaga', 0.04378323511069445),\n",
       "  ('aproveitamento', 0.04311888682234706),\n",
       "  ('aprovados', 0.0307976948859234),\n",
       "  ('código', 0.03058290692335726),\n",
       "  ('professor', 0.02775336462405774),\n",
       "  ('cargo', 0.02564598086030304),\n",
       "  ('ebtt', 0.025631745005499584),\n",
       "  ('civil', 0.0242188405755467),\n",
       "  ('instituição', 0.02371008082824381),\n",
       "  ('interesse', 0.022350775170015654),\n",
       "  ('saber', 0.02227211142889823),\n",
       "  ('aprovado', 0.0212432995860324),\n",
       "  ('docente', 0.0205317965906156),\n",
       "  ('gostaria', 0.019687040480754477),\n",
       "  ('area', 0.019659804699621655),\n",
       "  ('ufc', 0.019659804699621655),\n",
       "  ('entrevista', 0.019659804699621655),\n",
       "  ('aposentadoria', 0.018820378966786507)],\n",
       " 6: [('2021', 0.054626940309899744),\n",
       "  ('2020', 0.04874091254152706),\n",
       "  ('2017', 0.03561406509971402),\n",
       "  ('2018', 0.03317399210130387),\n",
       "  ('servidores', 0.026303439636634552),\n",
       "  ('2019', 0.02612154901335999),\n",
       "  ('2e019', 0.024353058021550505),\n",
       "  ('despesas', 0.02220813874188308),\n",
       "  ('receitas', 0.02066918676134661),\n",
       "  ('instituição', 0.0196085203384301),\n",
       "  ('deficiência', 0.01943484935865502),\n",
       "  ('sim', 0.01876826923054043),\n",
       "  ('graduação', 0.01801559505092265),\n",
       "  ('ensino', 0.016909478991487915),\n",
       "  ('doutorado', 0.015841145359632245),\n",
       "  ('sensu', 0.0156356449373329),\n",
       "  ('stricto', 0.0156356449373329),\n",
       "  ('mestrado', 0.014909801965647073),\n",
       "  ('__________________________________________________________________________________',\n",
       "   0.014537039963788934),\n",
       "  ('servidor', 0.014204691167926253)],\n",
       " 7: [('cargos', 0.07151242285841762),\n",
       "  ('vagos', 0.05625788307143645),\n",
       "  ('assistente', 0.04132418667705788),\n",
       "  ('cargo', 0.04129845744170866),\n",
       "  ('quantos', 0.038071305064664385),\n",
       "  ('quadro', 0.034269096159254976),\n",
       "  ('terceirizados', 0.03243077595766262),\n",
       "  ('saber', 0.03170246846877503),\n",
       "  ('serviço', 0.027647491244722665),\n",
       "  ('veterinários', 0.0259223517270528),\n",
       "  ('administrativo', 0.024290587937564518),\n",
       "  ('gostaria', 0.023723037825009306),\n",
       "  ('instituição', 0.023076441976206955),\n",
       "  ('adicional', 0.022115167613361117),\n",
       "  ('técnico', 0.021838681614167726),\n",
       "  ('funcionários', 0.021196704301512957),\n",
       "  ('órgão', 0.020472933899246915),\n",
       "  ('secretariado', 0.0204547288391339),\n",
       "  ('preposto', 0.0204547288391339),\n",
       "  ('pregoeiros', 0.0204547288391339)]}"
      ]
     },
     "execution_count": 49,
     "metadata": {},
     "output_type": "execute_result"
    }
   ],
   "source": [
    "top_n_words"
   ]
  }
 ],
 "metadata": {
  "kernelspec": {
   "display_name": "Python 3 (ipykernel)",
   "language": "python",
   "name": "python3"
  },
  "language_info": {
   "codemirror_mode": {
    "name": "ipython",
    "version": 3
   },
   "file_extension": ".py",
   "mimetype": "text/x-python",
   "name": "python",
   "nbconvert_exporter": "python",
   "pygments_lexer": "ipython3",
   "version": "3.10.7"
  }
 },
 "nbformat": 4,
 "nbformat_minor": 5
}
