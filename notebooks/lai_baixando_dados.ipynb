{
 "cells": [
  {
   "cell_type": "markdown",
   "id": "ab8cb0bb-7ed9-493f-9fb4-15a37064f8e7",
   "metadata": {},
   "source": [
    "# Baixando dados realizados pela Lei de Acesso à Informação (LAI) de Pedidos e Recursos/Reclamações.\n",
    "\n",
    "Nesse notebook vamos apresentar como podemos, utilizando a linguagem de programação python, baixar de forma mais automática dos dados da lai de pedidos e recursos/reclamações. "
   ]
  },
  {
   "cell_type": "markdown",
   "id": "b70117ac-0065-473b-b9da-3775966bd008",
   "metadata": {},
   "source": [
    "![tela fala br download](imagens/falabr_tela_download.png \"Tela do Fala.Br para download dos arquivos de Pedidos e Recursos sem o texto do pedido.\")"
   ]
  },
  {
   "cell_type": "markdown",
   "id": "042aba36-809b-47b6-a5df-1fd13ed53448",
   "metadata": {
    "tags": []
   },
   "source": [
    "------------------------------\n",
    "-- CAMPOS: PEDIDOS\n",
    "------------------------------\n",
    "- IdPedido - inteiro: identificador único do pedido (não mostrado no sistema);\n",
    "- ProtocoloPedido - texto(17): número do protocolo do pedido;\n",
    "- Esfera - texto(30): esfera do órgão destinatário do pedido;\n",
    "- UF - texto(2): Sigla da UF do pedido quando não federal; \n",
    "- Municipio - texto(200): Nome do município do pedido quando não federal;\n",
    "- OrgaoDestinatario  - texto(250): nome do órgão destinatário do pedido;\n",
    "- Situacao - texto(200): descrição da situação do pedido;\n",
    "- DataRegistro - Data DD/MM/AAAA HH:MM:SS : data de abertura do pedido;\n",
    "- PrazoAtendimento - Data DD/MM/AAAA HH:MM:ss : data limite para atendimento ao pedido;\n",
    "- FoiProrrogado - texto(3) \"Sim\" ou \"Não\" : informa se houve prorrogação do prazo do pedido;\n",
    "- FoiReencaminhado - texto(3) \"Sim\" ou \"Não\": informa se o pedido foi reencaminhado;\n",
    "- FormaResposta - texto(200): tipo de resposta escolhida pelo solicitante na abertura do pedido;\n",
    "- OrigemSolicitacao - texto(50): informa se o pedido foi aberto em um Balcão SIC ou pela Internet;\n",
    "- IdSolicitante - inteiro: identificador único do solicitante (não mostrado no sistema);\n",
    "- AssuntoPedido - texto(200) : assunto do pedido atribuído pel SIC;\n",
    "- SubAssuntoPedido - texto(200) : subassunto do pedido atribuída pelo SIC;\n",
    "- Tag - texto(1024): as tags são marcadores no pedido para realizar classificações que não estão em assuntos/ subassuntos;\n",
    "- DataResposta - Data DD/MM/AAAA HH:MM:SS : data da resposta ao pedido (campo em branco para pedidos que ainda estejam na situação \"Em Tramitação\");\n",
    "- Decisao - texto(100) : tipo resposta dada ao pedido (campo em branco para pedidos que ainda estejam na situação \"Em Tramitação\");\n",
    "- EspecificacaoDecisao - texto(200): subtipo da resposta dada ao pedido (campo em branco para pedidos que ainda estejam na situação \"Em Tramitação\");\n",
    "\n",
    "------------------------------\n",
    "-- CAMPOS: RECURSOS\n",
    "------------------------------\n",
    "\n",
    "- IdRecurso - inteiro: identificador único do recurso (não mostrado no sistema);\n",
    "- IdRecursoPrecedente - inteiro: identificador único do recurso que precedeu este (não mostrado no sistema e em branco no caso de Recursos de 1ª Instância e Reclamações);\n",
    "- IdPedido - inteiro: identificador único do pedido ao qual o recurso pertence (não mostrado no sistema);\n",
    "- IdSolicitante - inteiro: identificador único do solicitante (não mostrado no sistema);\n",
    "- ProtocoloPedido - texto(17): número do protocolo do pedido ao qual o recurso pertence;\n",
    "- Esfera - texto(30): descrição da esfera do recurso;\n",
    "- UF - texto(2): Sigla da UF do recurso quando não federal;\n",
    "- Municipio - texto(200): Nome do município do recurso quando não federal;\n",
    "- OrgaoDestinatario - texto(250): nome do órgão destinatário do recurso;\n",
    "- Instancia - texto(80): descrição da instância do recurso;\n",
    "- Situacao - texto(80): descrição da situação do recurso;\n",
    "- DataRegistro - Data DD/MM/AAAA HH:MM:SS : data de abertura do recurso;\n",
    "- PrazoAtendimento - Data DD/MM/AAAA HH:MM:SS : data limite para atendimento ao recurso;\n",
    "- OrigemSolicitacao - texto(50): informa se o recurso foi aberto em um Balcão SIC ou pela Internet;\n",
    "- TipoRecurso - texto(80): motivo de abertura do recurso;\n",
    "- DataResposta - Data DD/MM/AAAA HH:MM:SS : data da resposta ao recurso (campo em branco para recursos que ainda estejam na situação \"Em Tramitação\");\n",
    "- TipoResposta - texto(80): tipo resposta dada ao recurso (campo em branco para recursos que ainda estejam na situação \"Em Tramitação\");\n",
    "\n",
    "------------------------------\n",
    "-- CAMPOS: SOLICITANTES\n",
    "------------------------------\n",
    "\n",
    "- IdSolicitante - inteiro: identificador único do solicitante (não mostrado no sistema);\n",
    "- TipoDemandante - texto(15): Pessoa Fìsica ou Pessoa Jurídica;\n",
    "- DataNascimento - Data DD/MM/AAAA : data de nascimento do solicitante;\n",
    "- Genero - texto(13) : Masculino, Feminino ou Outro(em branco para pessoa jurídica);\n",
    "- Escolaridade - texto(200): Escolaridade do solicitante (em branco para pessoa jurídica);\n",
    "- Profissao - texto(200): Profissão do solicitante (em branco para pessoa jurídica);\n",
    "- TipoPessoaJuridica - texto(200): tipo de Pessoa Jurídica do solicitante (em branco para pessoa física)\n",
    "- Pais - texto(200): país de residência do solicitante;\n",
    "- UF - texto(2): UF de residência do solicitante;\n",
    "- Municipio - texto(200): Município de residência do solicitante;"
   ]
  },
  {
   "cell_type": "code",
   "execution_count": 1,
   "id": "3933d9ed-430f-40c0-a140-786888e98e8b",
   "metadata": {},
   "outputs": [],
   "source": [
    "import requests\n",
    "from datetime import date\n",
    "import shutil\n",
    "import os\n",
    "import time\n",
    "import zipfile\n",
    "import pandas as pd\n",
    "import re\n",
    "from wordcloud import WordCloud\n",
    "from nltk.corpus import stopwords\n",
    "from string import punctuation\n",
    "import matplotlib.pyplot as plt\n"
   ]
  },
  {
   "cell_type": "code",
   "execution_count": 2,
   "id": "12820a26-6ee1-4fa2-a590-aac09a70a99e",
   "metadata": {
    "tags": []
   },
   "outputs": [],
   "source": [
    "header_pedidos = ['IdPedido',\n",
    "                'ProtocoloPedido',\n",
    "                'Esfera',\n",
    "                'UF',\n",
    "                'Municipio',\n",
    "                'OrgaoDestinatario',\n",
    "                'Situacao',\n",
    "                'DataRegistro',\n",
    "                'PrazoAtendimento',\n",
    "                'FoiProrrogado',\n",
    "                'FoiReencaminhado',\n",
    "                'FormaResposta',\n",
    "                'OrigemSolicitacao',\n",
    "                'IdSolicitante',\n",
    "                'AssuntoPedido',\n",
    "                'SubAssuntoPedido',\n",
    "                'Tag',\n",
    "                'DataResposta',\n",
    "                'Decisao',\n",
    "                'EspecificacaoDecisao']\n",
    "\n",
    "header_recursos = ['IdRecurso',\n",
    "                'IdRecursoPrecedente',\n",
    "                'IdPedido',\n",
    "                'IdSolicitante',\n",
    "                'ProtocoloPedido',\n",
    "                'Esfera',\n",
    "                'UF',\n",
    "                'Municipio',\n",
    "                'OrgaoDestinatario',\n",
    "                'Instancia',\n",
    "                'Situacao',\n",
    "                'DataRegistro',\n",
    "                'PrazoAtendimento',\n",
    "                'OrigemSolicitacao',\n",
    "                'TipoRecurso',\n",
    "                'DataResposta',\n",
    "                'TipoResposta']\n",
    "\n",
    "header_solicitante = ['IdSolicitante',\n",
    "                    'TipoDemandante',\n",
    "                    'DataNascimento',\n",
    "                    'Genero',\n",
    "                    'Escolaridade',\n",
    "                    'Profissao',\n",
    "                    'TipoPessoaJuridica',\n",
    "                    'Pais',\n",
    "                    'UF',\n",
    "                    'Municipio']"
   ]
  },
  {
   "cell_type": "code",
   "execution_count": 3,
   "id": "b3cc8a31-7e87-4f57-8f6a-a37e2de11da2",
   "metadata": {},
   "outputs": [],
   "source": [
    "ANO_INICIO=2012\n",
    "PREFIXO_ACESSO = \"Pedidos\"\n",
    "PREFIXO_RECURSO = \"Recursos_Reclamacoes\"\n",
    "NOME_ARQUIVO_BASE = \"{prefixo}_{formato_arquivo}_{ano}.zip\"\n",
    "URL_BASE = \"https://dadosabertos-download.cgu.gov.br/FalaBR/Arquivos_FalaBR/{nome_arquivo}\"\n",
    "\n",
    "NOME_ARQUIVO_FILTRADO = 'Arquivos_{formato_arquivo}_{ano}.zip'\n",
    "URL_FILTRADOS = \"https://dadosabertos-download.cgu.gov.br/FalaBR/Arquivos_FalaBR_Filtrado/{nome_arquivo}\"\n"
   ]
  },
  {
   "cell_type": "code",
   "execution_count": 6,
   "id": "9605c5b8-415d-4682-a9a6-cb211edc593c",
   "metadata": {},
   "outputs": [],
   "source": [
    "def busca_lai_por_anos(anos, tipo_dados='acesso', localizacao='./', formato_arquivo='csv'):\n",
    "    \"\"\"\n",
    "    anos: Lista de anos para download.\n",
    "    tipo_dados: Se o arquivo é de acesso ou recurso\n",
    "    localizacao: Onde salvar os arquivos\n",
    "    formato_arquivo: formatos xml|csv\n",
    "    \"\"\"\n",
    "    if tipo_dados.lower() == \"acesso\":\n",
    "        prefix = PREFIXO_ACESSO\n",
    "    else:\n",
    "        prefix = PREFIXO_RECURSO\n",
    "\n",
    "    for year in anos:\n",
    "        nome_arquivo  = NOME_ARQUIVO_BASE.format(prefixo=prefix, formato_arquivo=formato_arquivo, ano=str(year))\n",
    "        url = URL_BASE.format(nome_arquivo=nome_arquivo)\n",
    "        try:\n",
    "            response = requests.get(url, stream=True)\n",
    "            with open(os.path.join(localizacao, nome_arquivo), 'wb') as out_file:\n",
    "                shutil.copyfileobj(response.raw, out_file)\n",
    "\n",
    "            print(f\"Arquivo {nome_arquivo} baixado de {url}\")\n",
    "        except Exception as e:\n",
    "            print(e)\n",
    "            print(f\"Error baixando arquivo {nome_arquivo} da url {url}\")\n",
    "\n",
    "        time.sleep(2)\n",
    "        \n",
    "def unzip_arquivos(de='zips', diretorio_destino='csvs'):\n",
    "    #https://stackoverflow.com/questions/3451111/unzipping-files-in-python\n",
    "\n",
    "    pattern = re.compile(\".*\\.zip\")\n",
    "    files = os.listdir(de)\n",
    "    for file in files:\n",
    "        if os.path.isfile(os.path.join(de, file)) and pattern.match(file.lower()) != None:    \n",
    "            arquivo = os.path.join(de, file)\n",
    "            with zipfile.ZipFile(arquivo,\"r\") as arquivo_zip:\n",
    "                print(f'descompactando {arquivo}')\n",
    "                arquivo_zip.extractall(diretorio_destino)\n",
    "        \n",
    "\n",
    "def busca_textos_por_anos(anos, localizacao='./', formato_arquivo='csv'):\n",
    "    \"\"\"\n",
    "    anos: Lista de anos para download.\n",
    "    localizacao: Onde salvar os arquivos\n",
    "    formato_arquivo: formatos xml|csv\n",
    "    \"\"\"\n",
    "    \n",
    "    for year in anos:\n",
    "        nome_arquivo  = NOME_ARQUIVO_FILTRADO.format(formato_arquivo=formato_arquivo, ano=str(year))\n",
    "        url = URL_FILTRADOS.format(nome_arquivo=nome_arquivo)\n",
    "        try:\n",
    "            response = requests.get(url, stream=True)\n",
    "            with open(os.path.join(localizacao, nome_arquivo), 'wb') as out_file:\n",
    "                shutil.copyfileobj(response.raw, out_file)\n",
    "\n",
    "            print(f\"Arquivo {nome_arquivo} baixado de {url}\")\n",
    "        except Exception as e:\n",
    "            print(e)\n",
    "            print(f\"Error baixando arquivo {nome_arquivo} da url {url}\")\n",
    "\n",
    "        time.sleep(2)\n",
    "        \n",
    "        \n",
    "class Pedidos:\n",
    "    \n",
    "    @staticmethod\n",
    "    def carrega_arquivos_csv_df(diretorio, header_pedidos, parse_dates=None):\n",
    "        pattern = re.compile(\".*\\_pedidos\\_.*\\.csv\")\n",
    "        df = pd.DataFrame()\n",
    "        files = os.listdir(diretorio)\n",
    "        if parse_dates is None:\n",
    "            parse_dates=['DataRegistro', 'PrazoAtendimento', 'DataResposta']\n",
    "            \n",
    "        for file in files:\n",
    "            if os.path.isfile(os.path.join(diretorio, file)) and pattern.match(file.lower()) != None:\n",
    "                print(f\"Carregando {file}\")\n",
    "                df = pd.concat([df, pd.read_csv(os.path.join(diretorio, file), names=header_pedidos, sep=';', encoding='utf-16', parse_dates=parse_dates, dayfirst=True, engine='c')], axis=0)\n",
    "                print(f'Carregado, memória utilizada após carga: {round(df.memory_usage(deep=True).sum()/(1024*1024), 2)}MB')\n",
    "        return df\n",
    "\n",
    "    @staticmethod\n",
    "    def carrega_arquivos_xml_df(diretorio, header_pedidos, parse_dates):\n",
    "        pattern = re.compile(\".*\\_pedidos\\_.*\\.xml\")\n",
    "        df = pd.DataFrame()\n",
    "        files = os.listdir(diretorio)\n",
    "        for file in files:\n",
    "            if os.path.isfile(os.path.join(diretorio, file)) and pattern.match(file.lower()) != None:\n",
    "                print(f\"Carregando {file}\")\n",
    "                df = pd.concat([df, pd.read_xml(os.path.join(diretorio, file), names=header_pedidos, encoding='utf-16', parse_dates=parse_dates, dayfirst=True, engine='c')])\n",
    "                print(f'Carregado, memória utilizada após carga: {round(df.memory_usage(deep=True).sum()/(1024*1024), 2)}MB')\n",
    "        return df\n",
    "\n",
    "\n",
    "class Recursos:\n",
    "    \n",
    "    @staticmethod\n",
    "    def carrega_arquivos_csv_df(diretorio, header_recursos, parse_dates=None):\n",
    "        pattern = re.compile(\".*\\_recursos\\_.*\\.csv\")\n",
    "        df = pd.DataFrame()\n",
    "        files = os.listdir(diretorio)\n",
    "        if parse_dates is None:\n",
    "            parse_dates=['DataRegistro', 'PrazoAtendimento', 'DataResposta']\n",
    "            \n",
    "        for file in files:\n",
    "            if os.path.isfile(os.path.join(diretorio, file)) and pattern.match(file.lower()) != None:\n",
    "                print(f\"Carregando {file}\")\n",
    "                df = pd.concat([df, pd.read_csv(os.path.join(diretorio, file), names=header_recursos, sep=';', encoding='utf-16', parse_dates=parse_dates, dayfirst=True, engine='c')], axis=0)\n",
    "                print(f'Carregado, memória utilizada após carga: {round(df.memory_usage(deep=True).sum()/(1024*1024), 2)}MB')\n",
    "        return df\n",
    "\n",
    "    @staticmethod\n",
    "    def carrega_arquivos_xml_df(diretorio, header_recursos, parse_dates):\n",
    "        pattern = re.compile(\".*\\_recursos\\_.*\\.xml\")\n",
    "        df = pd.DataFrame()\n",
    "        files = os.listdir(diretorio)\n",
    "        for file in files:\n",
    "            if os.path.isfile(os.path.join(diretorio, file)) and pattern.match(file.lower()) != None:\n",
    "                print(f\"Carregando {file}\")\n",
    "                df = pd.concat([df, pd.read_xml(os.path.join(diretorio, file), names=header_recursos, encoding='utf-16', parse_dates=parse_dates, dayfirst=True, engine='c')])\n",
    "                print(f'Carregado, memória utilizada após carga: {round(df.memory_usage(deep=True).sum()/(1024*1024), 2)}MB')\n",
    "        return df"
   ]
  },
  {
   "cell_type": "code",
   "execution_count": 5,
   "id": "63787a68-d04f-4480-9562-161837026086",
   "metadata": {},
   "outputs": [
    {
     "data": {
      "text/plain": [
       "[2012, 2013, 2014, 2015, 2016, 2017, 2018, 2019, 2020, 2021, 2022, 2023]"
      ]
     },
     "execution_count": 5,
     "metadata": {},
     "output_type": "execute_result"
    }
   ],
   "source": [
    "anos = range(ANO_INICIO, int(date.today().strftime(\"%Y\"))+1)\n",
    "list(anos)\n"
   ]
  },
  {
   "cell_type": "code",
   "execution_count": 6,
   "id": "3e09058a-215d-4b1c-b344-8d5f1337d32c",
   "metadata": {},
   "outputs": [
    {
     "name": "stdout",
     "output_type": "stream",
     "text": [
      "Arquivo Pedidos_csv_2012.zip baixado de https://dadosabertos-download.cgu.gov.br/FalaBR/Arquivos_FalaBR/Pedidos_csv_2012.zip\n",
      "Arquivo Pedidos_csv_2013.zip baixado de https://dadosabertos-download.cgu.gov.br/FalaBR/Arquivos_FalaBR/Pedidos_csv_2013.zip\n",
      "Arquivo Pedidos_csv_2014.zip baixado de https://dadosabertos-download.cgu.gov.br/FalaBR/Arquivos_FalaBR/Pedidos_csv_2014.zip\n",
      "Arquivo Pedidos_csv_2015.zip baixado de https://dadosabertos-download.cgu.gov.br/FalaBR/Arquivos_FalaBR/Pedidos_csv_2015.zip\n",
      "Arquivo Pedidos_csv_2016.zip baixado de https://dadosabertos-download.cgu.gov.br/FalaBR/Arquivos_FalaBR/Pedidos_csv_2016.zip\n",
      "Arquivo Pedidos_csv_2017.zip baixado de https://dadosabertos-download.cgu.gov.br/FalaBR/Arquivos_FalaBR/Pedidos_csv_2017.zip\n",
      "Arquivo Pedidos_csv_2018.zip baixado de https://dadosabertos-download.cgu.gov.br/FalaBR/Arquivos_FalaBR/Pedidos_csv_2018.zip\n",
      "Arquivo Pedidos_csv_2019.zip baixado de https://dadosabertos-download.cgu.gov.br/FalaBR/Arquivos_FalaBR/Pedidos_csv_2019.zip\n",
      "Arquivo Pedidos_csv_2020.zip baixado de https://dadosabertos-download.cgu.gov.br/FalaBR/Arquivos_FalaBR/Pedidos_csv_2020.zip\n",
      "Arquivo Pedidos_csv_2021.zip baixado de https://dadosabertos-download.cgu.gov.br/FalaBR/Arquivos_FalaBR/Pedidos_csv_2021.zip\n",
      "Arquivo Pedidos_csv_2022.zip baixado de https://dadosabertos-download.cgu.gov.br/FalaBR/Arquivos_FalaBR/Pedidos_csv_2022.zip\n",
      "Arquivo Pedidos_csv_2023.zip baixado de https://dadosabertos-download.cgu.gov.br/FalaBR/Arquivos_FalaBR/Pedidos_csv_2023.zip\n"
     ]
    }
   ],
   "source": [
    "busca_lai_por_anos(anos, 'acesso', 'zips_lai_rel', 'csv')\n"
   ]
  },
  {
   "cell_type": "code",
   "execution_count": 7,
   "id": "9da0be8e-1611-4b41-9d67-12c962fbb1de",
   "metadata": {},
   "outputs": [
    {
     "name": "stdout",
     "output_type": "stream",
     "text": [
      "Arquivo Recursos_Reclamacoes_csv_2012.zip baixado de https://dadosabertos-download.cgu.gov.br/FalaBR/Arquivos_FalaBR/Recursos_Reclamacoes_csv_2012.zip\n",
      "Arquivo Recursos_Reclamacoes_csv_2013.zip baixado de https://dadosabertos-download.cgu.gov.br/FalaBR/Arquivos_FalaBR/Recursos_Reclamacoes_csv_2013.zip\n",
      "Arquivo Recursos_Reclamacoes_csv_2014.zip baixado de https://dadosabertos-download.cgu.gov.br/FalaBR/Arquivos_FalaBR/Recursos_Reclamacoes_csv_2014.zip\n",
      "Arquivo Recursos_Reclamacoes_csv_2015.zip baixado de https://dadosabertos-download.cgu.gov.br/FalaBR/Arquivos_FalaBR/Recursos_Reclamacoes_csv_2015.zip\n",
      "Arquivo Recursos_Reclamacoes_csv_2016.zip baixado de https://dadosabertos-download.cgu.gov.br/FalaBR/Arquivos_FalaBR/Recursos_Reclamacoes_csv_2016.zip\n",
      "Arquivo Recursos_Reclamacoes_csv_2017.zip baixado de https://dadosabertos-download.cgu.gov.br/FalaBR/Arquivos_FalaBR/Recursos_Reclamacoes_csv_2017.zip\n",
      "Arquivo Recursos_Reclamacoes_csv_2018.zip baixado de https://dadosabertos-download.cgu.gov.br/FalaBR/Arquivos_FalaBR/Recursos_Reclamacoes_csv_2018.zip\n",
      "Arquivo Recursos_Reclamacoes_csv_2019.zip baixado de https://dadosabertos-download.cgu.gov.br/FalaBR/Arquivos_FalaBR/Recursos_Reclamacoes_csv_2019.zip\n",
      "Arquivo Recursos_Reclamacoes_csv_2020.zip baixado de https://dadosabertos-download.cgu.gov.br/FalaBR/Arquivos_FalaBR/Recursos_Reclamacoes_csv_2020.zip\n",
      "Arquivo Recursos_Reclamacoes_csv_2021.zip baixado de https://dadosabertos-download.cgu.gov.br/FalaBR/Arquivos_FalaBR/Recursos_Reclamacoes_csv_2021.zip\n",
      "Arquivo Recursos_Reclamacoes_csv_2022.zip baixado de https://dadosabertos-download.cgu.gov.br/FalaBR/Arquivos_FalaBR/Recursos_Reclamacoes_csv_2022.zip\n",
      "Arquivo Recursos_Reclamacoes_csv_2023.zip baixado de https://dadosabertos-download.cgu.gov.br/FalaBR/Arquivos_FalaBR/Recursos_Reclamacoes_csv_2023.zip\n"
     ]
    }
   ],
   "source": [
    "busca_lai_por_anos(anos, 'recurso', 'zips_lai_rel', 'csv')\n"
   ]
  },
  {
   "cell_type": "code",
   "execution_count": 8,
   "id": "a5dea678-ddf7-43d4-bdff-39a8e19e3cab",
   "metadata": {},
   "outputs": [
    {
     "name": "stdout",
     "output_type": "stream",
     "text": [
      "descompactando zips_lai_rel/Pedidos_csv_2023.zip\n",
      "descompactando zips_lai_rel/Recursos_Reclamacoes_csv_2016.zip\n",
      "descompactando zips_lai_rel/Recursos_Reclamacoes_csv_2015.zip\n",
      "descompactando zips_lai_rel/Pedidos_csv_2021.zip\n",
      "descompactando zips_lai_rel/Recursos_Reclamacoes_csv_2013.zip\n",
      "descompactando zips_lai_rel/Pedidos_csv_2016.zip\n",
      "descompactando zips_lai_rel/Pedidos_csv_2015.zip\n",
      "descompactando zips_lai_rel/Recursos_Reclamacoes_csv_2014.zip\n",
      "descompactando zips_lai_rel/Recursos_Reclamacoes_csv_2017.zip\n",
      "descompactando zips_lai_rel/Pedidos_csv_2020.zip\n",
      "descompactando zips_lai_rel/Pedidos_csv_2019.zip\n",
      "descompactando zips_lai_rel/Recursos_Reclamacoes_csv_2020.zip\n",
      "descompactando zips_lai_rel/Recursos_Reclamacoes_csv_2021.zip\n",
      "descompactando zips_lai_rel/Pedidos_csv_2013.zip\n",
      "descompactando zips_lai_rel/Pedidos_csv_2012.zip\n",
      "descompactando zips_lai_rel/Pedidos_csv_2014.zip\n",
      "descompactando zips_lai_rel/Recursos_Reclamacoes_csv_2018.zip\n",
      "descompactando zips_lai_rel/Recursos_Reclamacoes_csv_2023.zip\n",
      "descompactando zips_lai_rel/Pedidos_csv_2017.zip\n",
      "descompactando zips_lai_rel/Recursos_Reclamacoes_csv_2012.zip\n",
      "descompactando zips_lai_rel/Pedidos_csv_2022.zip\n",
      "descompactando zips_lai_rel/Recursos_Reclamacoes_csv_2022.zip\n",
      "descompactando zips_lai_rel/Recursos_Reclamacoes_csv_2019.zip\n",
      "descompactando zips_lai_rel/Pedidos_csv_2018.zip\n"
     ]
    }
   ],
   "source": [
    "unzip_arquivos(de='zips_lai_rel', diretorio_destino='csvs_rel')\n",
    "               "
   ]
  },
  {
   "cell_type": "code",
   "execution_count": 16,
   "id": "7eb090c1-7766-4214-bff9-9d5990835845",
   "metadata": {},
   "outputs": [
    {
     "name": "stdout",
     "output_type": "stream",
     "text": [
      "Carregando 20230302_Pedidos_csv_2012.csv\n",
      "Carregado, memória utilizada após carga: 64.37MB\n",
      "Carregando 20230307_Pedidos_csv_2017.csv\n",
      "Carregado, memória utilizada após carga: 203.24MB\n",
      "Carregando 20230307_Pedidos_csv_2022.csv\n",
      "Carregado, memória utilizada após carga: 365.42MB\n",
      "Carregando 20230307_Pedidos_csv_2013.csv\n",
      "Carregado, memória utilizada após carga: 475.16MB\n",
      "Carregando 20230302_Pedidos_csv_2017.csv\n",
      "Carregado, memória utilizada após carga: 626.51MB\n",
      "Carregando 20230302_Pedidos_csv_2021.csv\n",
      "Carregado, memória utilizada após carga: 775.61MB\n",
      "Carregando 20230302_Pedidos_csv_2022.csv\n",
      "Carregado, memória utilizada após carga: 918.99MB\n",
      "Carregando 20230302_Pedidos_csv_2019.csv\n",
      "Carregado, memória utilizada após carga: 1080.98MB\n",
      "Carregando 20230307_Pedidos_csv_2019.csv\n",
      "Carregado, memória utilizada após carga: 1242.98MB\n",
      "Carregando 20230307_Pedidos_csv_2016.csv\n",
      "Carregado, memória utilizada após carga: 1382.62MB\n",
      "Carregando 20230302_Pedidos_csv_2014.csv\n",
      "Carregado, memória utilizada após carga: 1491.45MB\n",
      "Carregando 20230310_Pedidos_csv_2014.csv\n",
      "Carregado, memória utilizada após carga: 1600.28MB\n",
      "Carregando 20230310_Pedidos_csv_2016.csv\n",
      "Carregado, memória utilizada após carga: 1739.92MB\n",
      "Carregando 20230302_Pedidos_csv_2023.csv\n",
      "Carregado, memória utilizada após carga: 1767.29MB\n",
      "Carregando 20230310_Pedidos_csv_2020.csv\n",
      "Carregado, memória utilizada após carga: 1952.3MB\n",
      "Carregando 20230307_Pedidos_csv_2014.csv\n",
      "Carregado, memória utilizada após carga: 2061.13MB\n",
      "Carregando 20230310_Pedidos_csv_2022.csv\n",
      "Carregado, memória utilizada após carga: 2204.51MB\n",
      "Carregando 20230310_Pedidos_csv_2019.csv\n",
      "Carregado, memória utilizada após carga: 2366.51MB\n",
      "Carregando 20230307_Pedidos_csv_2021.csv\n",
      "Carregado, memória utilizada após carga: 2515.61MB\n",
      "Carregando 20230307_Pedidos_csv_2020.csv\n",
      "Carregado, memória utilizada após carga: 2700.62MB\n",
      "Carregando 20230307_Pedidos_csv_2023.csv\n",
      "Carregado, memória utilizada após carga: 2730.0MB\n",
      "Carregando 20230310_Pedidos_csv_2018.csv\n",
      "Carregado, memória utilizada após carga: 2890.02MB\n",
      "Carregando 20230307_Pedidos_csv_2012.csv\n",
      "Carregado, memória utilizada após carga: 2960.71MB\n",
      "Carregando 20230302_Pedidos_csv_2018.csv\n",
      "Carregado, memória utilizada após carga: 3120.73MB\n",
      "Carregando 20230310_Pedidos_csv_2012.csv\n",
      "Carregado, memória utilizada após carga: 3191.42MB\n",
      "Carregando 20230310_Pedidos_csv_2013.csv\n",
      "Carregado, memória utilizada após carga: 3301.16MB\n",
      "Carregando 20230302_Pedidos_csv_2013.csv\n",
      "Carregado, memória utilizada após carga: 3410.91MB\n",
      "Carregando 20230302_Pedidos_csv_2016.csv\n",
      "Carregado, memória utilizada após carga: 3550.55MB\n",
      "Carregando 20230310_Pedidos_csv_2021.csv\n",
      "Carregado, memória utilizada após carga: 3699.65MB\n",
      "Carregando 20230302_Pedidos_csv_2020.csv\n",
      "Carregado, memória utilizada após carga: 3884.66MB\n",
      "Carregando 20230307_Pedidos_csv_2015.csv\n",
      "Carregado, memória utilizada após carga: 4008.01MB\n",
      "Carregando 20230310_Pedidos_csv_2023.csv\n",
      "Carregado, memória utilizada após carga: 4039.85MB\n",
      "Carregando 20230310_Pedidos_csv_2015.csv\n",
      "Carregado, memória utilizada após carga: 4163.2MB\n",
      "Carregando 20230307_Pedidos_csv_2018.csv\n",
      "Carregado, memória utilizada após carga: 4323.22MB\n",
      "Carregando 20230310_Pedidos_csv_2017.csv\n",
      "Carregado, memória utilizada após carga: 4474.56MB\n",
      "CPU times: user 1min 43s, sys: 6.51 s, total: 1min 50s\n",
      "Wall time: 1min 50s\n"
     ]
    }
   ],
   "source": [
    "%%time\n",
    "df = Pedidos.carrega_arquivos_csv_df('csvs_rel', header_pedidos=header_pedidos)\n"
   ]
  },
  {
   "cell_type": "code",
   "execution_count": 17,
   "id": "dd50a5ba-da3f-4aa2-ba1f-2efbb8b5cd59",
   "metadata": {},
   "outputs": [
    {
     "data": {
      "text/plain": [
       "<bound method Series.info of 0        2012-05-15\n",
       "1        2012-05-15\n",
       "2        2012-05-15\n",
       "3        2012-05-15\n",
       "4        2012-05-15\n",
       "            ...    \n",
       "120785   2017-12-31\n",
       "120786   2017-12-31\n",
       "120787   2017-12-31\n",
       "120788   2017-12-31\n",
       "120789   2017-12-31\n",
       "Name: DataRegistro, Length: 3626677, dtype: datetime64[ns]>"
      ]
     },
     "execution_count": 17,
     "metadata": {},
     "output_type": "execute_result"
    }
   ],
   "source": [
    "df['DataRegistro'].info"
   ]
  },
  {
   "cell_type": "code",
   "execution_count": 18,
   "id": "ae1f8f65-c585-4111-800f-ad56bfb6410e",
   "metadata": {
    "tags": []
   },
   "outputs": [],
   "source": [
    "df['AnoRegistro'] = df['DataRegistro'].dt.year\n"
   ]
  },
  {
   "cell_type": "code",
   "execution_count": 19,
   "id": "64af86c5-6b67-491d-a301-e2a562f26a53",
   "metadata": {},
   "outputs": [],
   "source": [
    "df.to_pickle('dados/pedidos_relatorio.pkl')\n"
   ]
  },
  {
   "cell_type": "code",
   "execution_count": 7,
   "id": "ad53d674-4665-478a-9a3b-b9e8edea3b47",
   "metadata": {
    "tags": []
   },
   "outputs": [
    {
     "name": "stdout",
     "output_type": "stream",
     "text": [
      "Carregando 20230302_Recursos_Reclamacoes_csv_2014.csv\n",
      "Carregado, memória utilizada após carga: 9.3MB\n",
      "Carregando 20230307_Recursos_Reclamacoes_csv_2016.csv\n",
      "Carregado, memória utilizada após carga: 24.05MB\n",
      "Carregando 20230307_Recursos_Reclamacoes_csv_2019.csv\n",
      "Carregado, memória utilizada após carga: 41.37MB\n",
      "Carregando 20230302_Recursos_Reclamacoes_csv_2013.csv\n",
      "Carregado, memória utilizada após carga: 51.25MB\n",
      "Carregando 20230302_Recursos_Reclamacoes_csv_2020.csv\n",
      "Carregado, memória utilizada após carga: 70.04MB\n",
      "Carregando 20230310_Recursos_Reclamacoes_csv_2016.csv\n",
      "Carregado, memória utilizada após carga: 84.71MB\n",
      "Carregando 20230310_Recursos_Reclamacoes_csv_2022.csv\n",
      "Carregado, memória utilizada após carga: 99.4MB\n",
      "Carregando 20230307_Recursos_Reclamacoes_csv_2017.csv\n",
      "Carregado, memória utilizada após carga: 118.65MB\n",
      "Carregando 20230307_Recursos_Reclamacoes_csv_2013.csv\n",
      "Carregado, memória utilizada após carga: 128.53MB\n",
      "Carregando 20230307_Recursos_Reclamacoes_csv_2021.csv\n",
      "Carregado, memória utilizada após carga: 144.85MB\n",
      "Carregando 20230310_Recursos_Reclamacoes_csv_2020.csv\n",
      "Carregado, memória utilizada após carga: 163.64MB\n",
      "Carregando 20230302_Recursos_Reclamacoes_csv_2021.csv\n",
      "Carregado, memória utilizada após carga: 179.95MB\n",
      "Carregando 20230310_Recursos_Reclamacoes_csv_2012.csv\n",
      "Carregado, memória utilizada após carga: 184.5MB\n",
      "Carregando 20230307_Recursos_Reclamacoes_csv_2012.csv\n",
      "Carregado, memória utilizada após carga: 189.05MB\n",
      "Carregando 20230310_Recursos_Reclamacoes_csv_2021.csv\n",
      "Carregado, memória utilizada após carga: 205.36MB\n",
      "Carregando 20230302_Recursos_Reclamacoes_csv_2012.csv\n",
      "Carregado, memória utilizada após carga: 209.91MB\n",
      "Carregando 20230307_Recursos_Reclamacoes_csv_2014.csv\n",
      "Carregado, memória utilizada após carga: 219.28MB\n",
      "Carregando 20230302_Recursos_Reclamacoes_csv_2022.csv\n",
      "Carregado, memória utilizada após carga: 233.97MB\n",
      "Carregando 20230310_Recursos_Reclamacoes_csv_2019.csv\n",
      "Carregado, memória utilizada após carga: 251.29MB\n",
      "Carregando 20230307_Recursos_Reclamacoes_csv_2022.csv\n",
      "Carregado, memória utilizada após carga: 265.98MB\n",
      "Carregando 20230310_Recursos_Reclamacoes_csv_2018.csv\n",
      "Carregado, memória utilizada após carga: 283.74MB\n",
      "Carregando 20230310_Recursos_Reclamacoes_csv_2023.csv\n",
      "Carregado, memória utilizada após carga: 286.9MB\n",
      "Carregando 20230307_Recursos_Reclamacoes_csv_2018.csv\n",
      "Carregado, memória utilizada após carga: 304.67MB\n",
      "Carregando 20230302_Recursos_Reclamacoes_csv_2017.csv\n",
      "Carregado, memória utilizada após carga: 323.92MB\n",
      "Carregando 20230302_Recursos_Reclamacoes_csv_2023.csv\n",
      "Carregado, memória utilizada após carga: 326.62MB\n",
      "Carregando 20230307_Recursos_Reclamacoes_csv_2020.csv\n",
      "Carregado, memória utilizada após carga: 345.41MB\n",
      "Carregando 20230302_Recursos_Reclamacoes_csv_2018.csv\n",
      "Carregado, memória utilizada após carga: 363.18MB\n",
      "Carregando 20230302_Recursos_Reclamacoes_csv_2019.csv\n",
      "Carregado, memória utilizada após carga: 380.5MB\n",
      "Carregando 20230307_Recursos_Reclamacoes_csv_2023.csv\n",
      "Carregado, memória utilizada após carga: 383.45MB\n",
      "Carregando 20230302_Recursos_Reclamacoes_csv_2015.csv\n",
      "Carregado, memória utilizada após carga: 395.01MB\n",
      "Carregando 20230310_Recursos_Reclamacoes_csv_2017.csv\n",
      "Carregado, memória utilizada após carga: 414.26MB\n",
      "Carregando 20230307_Recursos_Reclamacoes_csv_2015.csv\n",
      "Carregado, memória utilizada após carga: 425.82MB\n",
      "Carregando 20230302_Recursos_Reclamacoes_csv_2016.csv\n",
      "Carregado, memória utilizada após carga: 440.5MB\n",
      "Carregando 20230310_Recursos_Reclamacoes_csv_2015.csv\n",
      "Carregado, memória utilizada após carga: 452.05MB\n",
      "Carregando 20230310_Recursos_Reclamacoes_csv_2013.csv\n",
      "Carregado, memória utilizada após carga: 461.93MB\n",
      "Carregando 20230310_Recursos_Reclamacoes_csv_2014.csv\n",
      "Carregado, memória utilizada após carga: 471.3MB\n",
      "CPU times: user 12.5 s, sys: 2.35 s, total: 14.8 s\n",
      "Wall time: 19.5 s\n"
     ]
    }
   ],
   "source": [
    "%%time\n",
    "df = Recursos.carrega_arquivos_csv_df('csvs_rel', header_recursos=header_recursos)\n"
   ]
  },
  {
   "cell_type": "code",
   "execution_count": 8,
   "id": "07a1347f-4001-48f3-972d-c7b3a656428c",
   "metadata": {
    "tags": []
   },
   "outputs": [],
   "source": [
    "df['AnoRegistro'] = df['DataRegistro'].dt.year\n"
   ]
  },
  {
   "cell_type": "code",
   "execution_count": 9,
   "id": "7d03ba25-f971-4d23-aef9-a8b00341ab89",
   "metadata": {
    "tags": []
   },
   "outputs": [],
   "source": [
    "df.to_pickle('dados/recursos_relatorio.pkl')\n"
   ]
  },
  {
   "cell_type": "markdown",
   "id": "6bcc2680-a436-40bc-9377-1b5f3f06726d",
   "metadata": {},
   "source": [
    "## Arquivos com textos de pedidos"
   ]
  },
  {
   "cell_type": "markdown",
   "id": "5f30421f-94fa-4bed-88f0-47a5f3ecf1a0",
   "metadata": {
    "tags": []
   },
   "source": [
    "No menu localizado no final da página existe um link para a Busca de Pedidos e Respostas. Nesse link pode-se encontrar a opção de download de dados.\n",
    "\n",
    "![tela fala br download com texto](imagens/falabr_tela_download_busca.png \"Menu do Fala.Br. Busca de Pedidos e Respostas\")"
   ]
  },
  {
   "cell_type": "markdown",
   "id": "3eb3d9fd-a416-4e3d-a037-28c07a3f3f45",
   "metadata": {
    "tags": []
   },
   "source": [
    "![tela fala br download](imagens/falabr_tela_download_busca_select.png \"Tela do Fala.Br para download dos arquivos de Pedidos e Recursos sem o texto do pedido.\")"
   ]
  },
  {
   "cell_type": "markdown",
   "id": "f811d177-d1b1-49d7-a525-8e104406af68",
   "metadata": {},
   "source": [
    "------------------------------\n",
    "-- CAMPOS: PEDIDOS\n",
    "------------------------------\n",
    "- IdPedido - inteiro: identificador único do pedido (não mostrado no sistema);\n",
    "- ProtocoloPedido - texto(17): número do protocolo do pedido;\n",
    "- Esfera - texto(30): esfera do órgão destinatário do pedido; \n",
    "- OrgaoDestinatario  - texto(250): nome do órgão destinatário do pedido;\n",
    "- Situacao - texto(200): descrição da situação do pedido;\n",
    "- DataRegistro - Data DD/MM/AAAA HH:MM:SS : data de abertura do pedido;\n",
    "- ResumoSolicitacao - texto(255): resumo do pedido;\n",
    "- DetalhamentoSolicitacao - texto(2048): detalhamento do pedido;\n",
    "- PrazoAtendimento - Data DD/MM/AAAA HH:MM:ss : data limite para atendimento ao pedido;\n",
    "- FoiProrrogado - texto(3) \"Sim\" ou \"Não\" : informa se houve prorrogação do prazo do pedido;\n",
    "- FoiReencaminhado - texto(3) \"Sim\" ou \"Não\": informa se o pedido foi reencaminhado;\n",
    "- FormaResposta - texto(200): tipo de resposta escolhida pelo solicitante na abertura do pedido;\n",
    "- OrigemSolicitacao - texto(50): informa se o pedido foi aberto em um Balcão SIC ou pela Internet;\n",
    "- IdSolicitante - inteiro: identificador único do solicitante (não mostrado no sistema);\n",
    "- AssuntoPedido - texto(200) : assunto do pedido atribuído pel SIC;\n",
    "- SubAssuntoPedido - texto(200) : subassunto do pedido atribuída pelo SIC;\n",
    "- Tag - texto(1024): as tags são marcadores no pedido para realizar classificações que não estão em assuntos/ subassuntos;\n",
    "- DataResposta - Data DD/MM/AAAA HH:MM:SS : data da resposta ao pedido (campo em branco para pedidos que ainda estejam na situação \"Em Tramitação\");\n",
    "- Resposta - texto(8000): resposta ao pedido;\n",
    "- Decisao - texto(100) : tipo resposta dada ao pedido (campo em branco para pedidos que ainda estejam na situação \"Em Tramitação\");\n",
    "- EspecificacaoDecisao - texto(200): subtipo da resposta dada ao pedido (campo em branco para pedidos que ainda estejam na situação \"Em Tramitação\");\n",
    "\n",
    "\n",
    "------------------------------\n",
    "-- CAMPOS: RECURSOS\n",
    "------------------------------\n",
    "\n",
    "- IdRecurso - inteiro: identificador único do recurso (não mostrado no sistema);\n",
    "- IdRecursoPrecedente - inteiro: identificador único do recurso que precedeu este (não mostrado no sistema e em branco no caso de Recursos de 1ª Instância e Reclamações);\n",
    "- DescRecurso - texto(8000): descrição do recurso;\n",
    "- IdPedido - inteiro: identificador único do pedido ao qual o recurso pertence (não mostrado no sistema);\n",
    "- IdSolicitante - inteiro: identificador único do solicitante (não mostrado no sistema);\n",
    "- ProtocoloPedido - texto(17): número do protocolo do pedido ao qual o recurso pertence;\n",
    "- OrgaoDestinatario - texto(250): nome do órgão destinatário do recurso;\n",
    "- Instancia - texto(80): descrição da instância do recurso;\n",
    "- Situacao - texto(80): descrição da situação do recurso;\n",
    "- DataRegistro - Data DD/MM/AAAA HH:MM:SS : data de abertura do recurso;\n",
    "- PrazoAtendimento - Data DD/MM/AAAA HH:MM:SS : data limite para atendimento ao recurso;\n",
    "- OrigemSolicitacao - texto(50): informa se o recurso foi aberto em um Balcão SIC ou pela Internet;\n",
    "- TipoRecurso - texto(80): motivo de abertura do recurso;\n",
    "- DataResposta - Data DD/MM/AAAA HH:MM:SS : data da resposta ao recurso (campo em branco para recursos que ainda estejam na situação \"Em Tramitação\");\n",
    "- RespostaRecurso - texto(8000): resposta ao recurso;\n",
    "- TipoResposta - texto(80): tipo resposta dada ao recurso (campo em branco para recursos que ainda estejam na situação \"Em Tramitação\");\n",
    "\n",
    " \n",
    "------------------------------\n",
    "-- CAMPOS: SOLICITANTES\n",
    "------------------------------\n",
    "\n",
    "- IdSolicitante - inteiro: identificador único do solicitante (não mostrado no sistema);\n",
    "- TipoDemandante - texto(15): Pessoa Fìsica ou Pessoa Jurídica;\n",
    "- DataNascimento - Data DD/MM/AAAA : data de nascimento do solicitante;\n",
    "- Genero - texto(13) : Masculino, Feminino ou Outro(em branco para pessoa jurídica);\n",
    "- Escolaridade - texto(200): Escolaridade do solicitante (em branco para pessoa jurídica);\n",
    "- Profissao - texto(200): Profissão do solicitante (em branco para pessoa jurídica);\n",
    "- TipoPessoaJuridica - texto(200): tipo de Pessoa Jurídica do solicitante (em branco para pessoa física)\n",
    "- Pais - texto(200): país de residência do solicitante;\n",
    "- UF - texto(2): UF de residência do solicitante;\n",
    "- Municipio - texto(200): Município de residência do solicitante;"
   ]
  },
  {
   "cell_type": "code",
   "execution_count": 11,
   "id": "ad90674d-467e-4a35-b3e8-d81e8f96b2fb",
   "metadata": {
    "tags": []
   },
   "outputs": [],
   "source": [
    "pedido_header_txts = ['IdPedido',\n",
    "                'ProtocoloPedido',\n",
    "                'Esfera',\n",
    "                'OrgaoDestinatario',\n",
    "                'Situacao',\n",
    "                'DataRegistro',\n",
    "                'ResumoSolicitacao',\n",
    "                'DetalhamentoSolicitacao',\n",
    "                'PrazoAtendimento',\n",
    "                'FoiProrrogado',\n",
    "                'FoiReencaminhado',\n",
    "                'FormaResposta',\n",
    "                'OrigemSolicitacao',\n",
    "                'IdSolicitante',\n",
    "                'AssuntoPedido',\n",
    "                'SubAssuntoPedido',\n",
    "                'Tag',\n",
    "                'DataResposta',\n",
    "                'Resposta',\n",
    "                'Decisao',\n",
    "                'EspecificacaoDecisao']\n",
    "\n",
    "recurso_header_txts = ['IdRecurso',\n",
    "                'IdRecursoPrecedente',\n",
    "                'DescRecurso',\n",
    "                'IdPedido',\n",
    "                'IdSolicitante',\n",
    "                'ProtocoloPedido',\n",
    "                'OrgaoDestinatario',\n",
    "                'Instancia',\n",
    "                'Situacao',\n",
    "                'DataRegistro',\n",
    "                'PrazoAtendimento',\n",
    "                'OrigemSolicitacao',\n",
    "                'TipoRecurso',\n",
    "                'DataResposta',\n",
    "                'RespostaRecurso',\n",
    "                'TipoResposta']\n",
    "\n",
    "\n",
    "solicitante_header_txts = ['IdSolicitante',\n",
    "                'TipoDemandante',\n",
    "                'DataNascimento',\n",
    "                'Genero',\n",
    "                'Escolaridade',\n",
    "                'Profissao',\n",
    "                'TipoPessoaJuridica',\n",
    "                'Pais',\n",
    "                'UF',\n",
    "                'Municipio']\n"
   ]
  },
  {
   "cell_type": "code",
   "execution_count": 21,
   "id": "33572675-eb2a-4af4-8d3b-0840406b91c0",
   "metadata": {
    "tags": []
   },
   "outputs": [
    {
     "data": {
      "text/plain": [
       "[2015, 2016, 2017, 2018, 2019, 2020, 2021, 2022, 2023]"
      ]
     },
     "execution_count": 21,
     "metadata": {},
     "output_type": "execute_result"
    }
   ],
   "source": [
    "anos = range(2015, int(date.today().strftime(\"%Y\"))+1)\n",
    "list(anos)\n"
   ]
  },
  {
   "cell_type": "code",
   "execution_count": 22,
   "id": "62c83e85-b656-4ee1-8660-35a18a75683f",
   "metadata": {
    "tags": []
   },
   "outputs": [
    {
     "name": "stdout",
     "output_type": "stream",
     "text": [
      "Arquivo Arquivos_csv_2015.zip baixado de https://dadosabertos-download.cgu.gov.br/FalaBR/Arquivos_FalaBR_Filtrado/Arquivos_csv_2015.zip\n",
      "Arquivo Arquivos_csv_2016.zip baixado de https://dadosabertos-download.cgu.gov.br/FalaBR/Arquivos_FalaBR_Filtrado/Arquivos_csv_2016.zip\n",
      "Arquivo Arquivos_csv_2017.zip baixado de https://dadosabertos-download.cgu.gov.br/FalaBR/Arquivos_FalaBR_Filtrado/Arquivos_csv_2017.zip\n",
      "Arquivo Arquivos_csv_2018.zip baixado de https://dadosabertos-download.cgu.gov.br/FalaBR/Arquivos_FalaBR_Filtrado/Arquivos_csv_2018.zip\n",
      "Arquivo Arquivos_csv_2019.zip baixado de https://dadosabertos-download.cgu.gov.br/FalaBR/Arquivos_FalaBR_Filtrado/Arquivos_csv_2019.zip\n",
      "Arquivo Arquivos_csv_2020.zip baixado de https://dadosabertos-download.cgu.gov.br/FalaBR/Arquivos_FalaBR_Filtrado/Arquivos_csv_2020.zip\n",
      "Arquivo Arquivos_csv_2021.zip baixado de https://dadosabertos-download.cgu.gov.br/FalaBR/Arquivos_FalaBR_Filtrado/Arquivos_csv_2021.zip\n",
      "Arquivo Arquivos_csv_2022.zip baixado de https://dadosabertos-download.cgu.gov.br/FalaBR/Arquivos_FalaBR_Filtrado/Arquivos_csv_2022.zip\n",
      "Arquivo Arquivos_csv_2023.zip baixado de https://dadosabertos-download.cgu.gov.br/FalaBR/Arquivos_FalaBR_Filtrado/Arquivos_csv_2023.zip\n"
     ]
    }
   ],
   "source": [
    "busca_textos_por_anos(anos, localizacao='zips_lai_txts', formato_arquivo='csv')\n"
   ]
  },
  {
   "cell_type": "code",
   "execution_count": 23,
   "id": "7a6ceb9e-e4ea-45fc-b05f-2a3fc20683fb",
   "metadata": {
    "tags": []
   },
   "outputs": [
    {
     "name": "stdout",
     "output_type": "stream",
     "text": [
      "descompactando zips_lai_txts/Arquivos_csv_2018.zip\n",
      "descompactando zips_lai_txts/Arquivos_csv_2023.zip\n",
      "descompactando zips_lai_txts/Arquivos_csv_2021.zip\n",
      "descompactando zips_lai_txts/Arquivos_csv_2016.zip\n",
      "descompactando zips_lai_txts/Arquivos_csv_2020.zip\n",
      "descompactando zips_lai_txts/Arquivos_csv_2019.zip\n",
      "descompactando zips_lai_txts/Arquivos_csv_2022.zip\n",
      "descompactando zips_lai_txts/Arquivos_csv_2015.zip\n",
      "descompactando zips_lai_txts/Arquivos_csv_2017.zip\n"
     ]
    }
   ],
   "source": [
    "unzip_arquivos(de='zips_lai_txts', diretorio_destino='csvs_txts')\n"
   ]
  },
  {
   "cell_type": "code",
   "execution_count": 16,
   "id": "ca06af9d-1898-4a6c-97d5-0a08c5f737fc",
   "metadata": {
    "tags": []
   },
   "outputs": [
    {
     "name": "stdout",
     "output_type": "stream",
     "text": [
      "Carregando 20230310_Pedidos_csv_2016.csv\n",
      "Carregado, memória utilizada após carga: 252.54MB\n",
      "Carregando 20230310_Pedidos_csv_2020.csv\n",
      "Carregado, memória utilizada após carga: 674.73MB\n",
      "Carregando 20230310_Pedidos_csv_2022.csv\n",
      "Carregado, memória utilizada após carga: 931.24MB\n",
      "Carregando 20230310_Pedidos_csv_2019.csv\n",
      "Carregado, memória utilizada após carga: 1246.86MB\n",
      "Carregando 20230310_Pedidos_csv_2018.csv\n",
      "Carregado, memória utilizada após carga: 1533.7MB\n",
      "Carregando 20230310_Pedidos_csv_2021.csv\n",
      "Carregado, memória utilizada após carga: 1834.95MB\n",
      "Carregando 20230310_Pedidos_csv_2023.csv\n",
      "Carregado, memória utilizada após carga: 1881.18MB\n",
      "Carregando 20230310_Pedidos_csv_2015.csv\n",
      "Carregado, memória utilizada após carga: 2101.27MB\n",
      "Carregando 20230310_Pedidos_csv_2017.csv\n",
      "Carregado, memória utilizada após carga: 2368.27MB\n",
      "CPU times: user 19.5 s, sys: 16.1 s, total: 35.7 s\n",
      "Wall time: 35.7 s\n"
     ]
    }
   ],
   "source": [
    "%%time\n",
    "df = Pedidos.carrega_arquivos_csv_df('csvs_txts', header_pedidos=pedido_header_txts)"
   ]
  },
  {
   "cell_type": "code",
   "execution_count": 17,
   "id": "57bcea54-97f5-4bc3-8418-a6dd54fc9da8",
   "metadata": {
    "tags": []
   },
   "outputs": [
    {
     "data": {
      "text/html": [
       "<div>\n",
       "<style scoped>\n",
       "    .dataframe tbody tr th:only-of-type {\n",
       "        vertical-align: middle;\n",
       "    }\n",
       "\n",
       "    .dataframe tbody tr th {\n",
       "        vertical-align: top;\n",
       "    }\n",
       "\n",
       "    .dataframe thead th {\n",
       "        text-align: right;\n",
       "    }\n",
       "</style>\n",
       "<table border=\"1\" class=\"dataframe\">\n",
       "  <thead>\n",
       "    <tr style=\"text-align: right;\">\n",
       "      <th></th>\n",
       "      <th>IdPedido</th>\n",
       "      <th>ProtocoloPedido</th>\n",
       "      <th>Esfera</th>\n",
       "      <th>OrgaoDestinatario</th>\n",
       "      <th>Situacao</th>\n",
       "      <th>DataRegistro</th>\n",
       "      <th>ResumoSolicitacao</th>\n",
       "      <th>DetalhamentoSolicitacao</th>\n",
       "      <th>PrazoAtendimento</th>\n",
       "      <th>FoiProrrogado</th>\n",
       "      <th>...</th>\n",
       "      <th>FormaResposta</th>\n",
       "      <th>OrigemSolicitacao</th>\n",
       "      <th>IdSolicitante</th>\n",
       "      <th>AssuntoPedido</th>\n",
       "      <th>SubAssuntoPedido</th>\n",
       "      <th>Tag</th>\n",
       "      <th>DataResposta</th>\n",
       "      <th>Resposta</th>\n",
       "      <th>Decisao</th>\n",
       "      <th>EspecificacaoDecisao</th>\n",
       "    </tr>\n",
       "  </thead>\n",
       "  <tbody>\n",
       "    <tr>\n",
       "      <th>0</th>\n",
       "      <td>1678719</td>\n",
       "      <td>99901000001201633</td>\n",
       "      <td>Federal</td>\n",
       "      <td>BB – Banco do Brasil S.A.</td>\n",
       "      <td>Concluída</td>\n",
       "      <td>2016-01-01</td>\n",
       "      <td>consultar meu cpf . no spc e serasa</td>\n",
       "      <td>Consulta do cpf no serasa e spc</td>\n",
       "      <td>2016-01-25</td>\n",
       "      <td>Não</td>\n",
       "      <td>...</td>\n",
       "      <td>Pelo sistema (com avisos por email)</td>\n",
       "      <td>Internet</td>\n",
       "      <td>2625397</td>\n",
       "      <td>Outros em Economia e Finanças</td>\n",
       "      <td></td>\n",
       "      <td></td>\n",
       "      <td>2016-01-25</td>\n",
       "      <td>Prezado(a) Sr(a). Gisela,  Encaminhamos, em an...</td>\n",
       "      <td>Acesso Concedido</td>\n",
       "      <td>Resposta solicitada inserida no Fala.Br</td>\n",
       "    </tr>\n",
       "    <tr>\n",
       "      <th>1</th>\n",
       "      <td>1678723</td>\n",
       "      <td>99902000001201623</td>\n",
       "      <td>Federal</td>\n",
       "      <td>CEF – Caixa Econômica Federal</td>\n",
       "      <td>Concluída</td>\n",
       "      <td>2016-01-01</td>\n",
       "      <td>Esclarecimentos sobre seguro de risco de incêndio</td>\n",
       "      <td>Sou conselheiro de um Condomínio e depois da p...</td>\n",
       "      <td>2016-01-25</td>\n",
       "      <td>Não</td>\n",
       "      <td>...</td>\n",
       "      <td>Pelo sistema (com avisos por email)</td>\n",
       "      <td>Internet</td>\n",
       "      <td>2571729</td>\n",
       "      <td>Outros em Economia e Finanças</td>\n",
       "      <td></td>\n",
       "      <td></td>\n",
       "      <td>2016-01-05</td>\n",
       "      <td>Prezado (a) Senhor (a),     1. Em atenção a su...</td>\n",
       "      <td>Acesso Negado</td>\n",
       "      <td>Pedido incompreensível</td>\n",
       "    </tr>\n",
       "    <tr>\n",
       "      <th>2</th>\n",
       "      <td>1678726</td>\n",
       "      <td>99901000002201688</td>\n",
       "      <td>Federal</td>\n",
       "      <td>BB – Banco do Brasil S.A.</td>\n",
       "      <td>Concluída</td>\n",
       "      <td>2016-01-01</td>\n",
       "      <td>SALDO PASEP</td>\n",
       "      <td>Bom dia,   necessito do saldo do PASEP</td>\n",
       "      <td>2016-01-25</td>\n",
       "      <td>Não</td>\n",
       "      <td>...</td>\n",
       "      <td>Pelo sistema (com avisos por email)</td>\n",
       "      <td>Internet</td>\n",
       "      <td>2117083</td>\n",
       "      <td>Outros em Economia e Finanças</td>\n",
       "      <td></td>\n",
       "      <td></td>\n",
       "      <td>2016-01-25</td>\n",
       "      <td>Prezado(a) Sr(a). Regina,  Encaminhamos, em an...</td>\n",
       "      <td>Acesso Concedido</td>\n",
       "      <td>Resposta solicitada inserida no Fala.Br</td>\n",
       "    </tr>\n",
       "    <tr>\n",
       "      <th>3</th>\n",
       "      <td>1678739</td>\n",
       "      <td>80200000001201611</td>\n",
       "      <td>Federal</td>\n",
       "      <td>MTur - Ministério do Turismo</td>\n",
       "      <td>Concluída</td>\n",
       "      <td>2016-01-01</td>\n",
       "      <td>cópia termo de convenio em MCIDADES e prefeitu...</td>\n",
       "      <td>Solicito cópia dos termos de convenio nº siafi...</td>\n",
       "      <td>2016-01-25</td>\n",
       "      <td>Não</td>\n",
       "      <td>...</td>\n",
       "      <td>Pelo sistema (com avisos por email)</td>\n",
       "      <td>Internet</td>\n",
       "      <td>47991</td>\n",
       "      <td>Turismo</td>\n",
       "      <td></td>\n",
       "      <td></td>\n",
       "      <td>2016-01-05</td>\n",
       "      <td>Segue resposta da área técnica   Retransmitimo...</td>\n",
       "      <td>Acesso Concedido</td>\n",
       "      <td>Resposta solicitada inserida no Fala.Br</td>\n",
       "    </tr>\n",
       "    <tr>\n",
       "      <th>4</th>\n",
       "      <td>1678747</td>\n",
       "      <td>80200000002201657</td>\n",
       "      <td>Federal</td>\n",
       "      <td>MDR - Ministério do Desenvolvimento Regional</td>\n",
       "      <td>Concluída</td>\n",
       "      <td>2016-01-01</td>\n",
       "      <td>cópia termo de convenio em MCIDADES e prefeitu...</td>\n",
       "      <td>Solicito copia do termo de convenio nº siafi 5...</td>\n",
       "      <td>2016-01-25</td>\n",
       "      <td>Não</td>\n",
       "      <td>...</td>\n",
       "      <td>Pelo sistema (com avisos por email)</td>\n",
       "      <td>Internet</td>\n",
       "      <td>47991</td>\n",
       "      <td>Infraestrutura Urbana</td>\n",
       "      <td></td>\n",
       "      <td></td>\n",
       "      <td>2016-01-04</td>\n",
       "      <td>Prezado Sr. Maxoel,  Por essa demanda se trata...</td>\n",
       "      <td>Pergunta Duplicada/Repetida</td>\n",
       "      <td></td>\n",
       "    </tr>\n",
       "  </tbody>\n",
       "</table>\n",
       "<p>5 rows × 21 columns</p>\n",
       "</div>"
      ],
      "text/plain": [
       "   IdPedido    ProtocoloPedido   Esfera  \\\n",
       "0   1678719  99901000001201633  Federal   \n",
       "1   1678723  99902000001201623  Federal   \n",
       "2   1678726  99901000002201688  Federal   \n",
       "3   1678739  80200000001201611  Federal   \n",
       "4   1678747  80200000002201657  Federal   \n",
       "\n",
       "                              OrgaoDestinatario   Situacao DataRegistro  \\\n",
       "0                     BB – Banco do Brasil S.A.  Concluída   2016-01-01   \n",
       "1                 CEF – Caixa Econômica Federal  Concluída   2016-01-01   \n",
       "2                     BB – Banco do Brasil S.A.  Concluída   2016-01-01   \n",
       "3                  MTur - Ministério do Turismo  Concluída   2016-01-01   \n",
       "4  MDR - Ministério do Desenvolvimento Regional  Concluída   2016-01-01   \n",
       "\n",
       "                                   ResumoSolicitacao  \\\n",
       "0                consultar meu cpf . no spc e serasa   \n",
       "1  Esclarecimentos sobre seguro de risco de incêndio   \n",
       "2                                        SALDO PASEP   \n",
       "3  cópia termo de convenio em MCIDADES e prefeitu...   \n",
       "4  cópia termo de convenio em MCIDADES e prefeitu...   \n",
       "\n",
       "                             DetalhamentoSolicitacao PrazoAtendimento  \\\n",
       "0                    Consulta do cpf no serasa e spc       2016-01-25   \n",
       "1  Sou conselheiro de um Condomínio e depois da p...       2016-01-25   \n",
       "2             Bom dia,   necessito do saldo do PASEP       2016-01-25   \n",
       "3  Solicito cópia dos termos de convenio nº siafi...       2016-01-25   \n",
       "4  Solicito copia do termo de convenio nº siafi 5...       2016-01-25   \n",
       "\n",
       "  FoiProrrogado  ...                        FormaResposta OrigemSolicitacao  \\\n",
       "0           Não  ...  Pelo sistema (com avisos por email)          Internet   \n",
       "1           Não  ...  Pelo sistema (com avisos por email)          Internet   \n",
       "2           Não  ...  Pelo sistema (com avisos por email)          Internet   \n",
       "3           Não  ...  Pelo sistema (com avisos por email)          Internet   \n",
       "4           Não  ...  Pelo sistema (com avisos por email)          Internet   \n",
       "\n",
       "  IdSolicitante                  AssuntoPedido SubAssuntoPedido Tag  \\\n",
       "0       2625397  Outros em Economia e Finanças                        \n",
       "1       2571729  Outros em Economia e Finanças                        \n",
       "2       2117083  Outros em Economia e Finanças                        \n",
       "3         47991                        Turismo                        \n",
       "4         47991          Infraestrutura Urbana                        \n",
       "\n",
       "  DataResposta                                           Resposta  \\\n",
       "0   2016-01-25  Prezado(a) Sr(a). Gisela,  Encaminhamos, em an...   \n",
       "1   2016-01-05  Prezado (a) Senhor (a),     1. Em atenção a su...   \n",
       "2   2016-01-25  Prezado(a) Sr(a). Regina,  Encaminhamos, em an...   \n",
       "3   2016-01-05  Segue resposta da área técnica   Retransmitimo...   \n",
       "4   2016-01-04  Prezado Sr. Maxoel,  Por essa demanda se trata...   \n",
       "\n",
       "                       Decisao                     EspecificacaoDecisao  \n",
       "0             Acesso Concedido  Resposta solicitada inserida no Fala.Br  \n",
       "1                Acesso Negado                   Pedido incompreensível  \n",
       "2             Acesso Concedido  Resposta solicitada inserida no Fala.Br  \n",
       "3             Acesso Concedido  Resposta solicitada inserida no Fala.Br  \n",
       "4  Pergunta Duplicada/Repetida                                           \n",
       "\n",
       "[5 rows x 21 columns]"
      ]
     },
     "execution_count": 17,
     "metadata": {},
     "output_type": "execute_result"
    }
   ],
   "source": [
    "df.head()"
   ]
  },
  {
   "cell_type": "code",
   "execution_count": 18,
   "id": "a7ceb2f0-45da-4077-a3a5-3f9c8d75846a",
   "metadata": {
    "tags": []
   },
   "outputs": [],
   "source": [
    "df['AnoRegistro'] = df['DataRegistro'].dt.year"
   ]
  },
  {
   "cell_type": "code",
   "execution_count": 19,
   "id": "cd57b5ec-7504-4f0d-b81f-7056521453e4",
   "metadata": {},
   "outputs": [],
   "source": [
    "df.to_pickle('dados/pedidos_texto.pkl')"
   ]
  },
  {
   "cell_type": "code",
   "execution_count": 20,
   "id": "e5cd4e7d-9390-4ab4-a6e2-b1354f3a615d",
   "metadata": {
    "tags": []
   },
   "outputs": [
    {
     "name": "stdout",
     "output_type": "stream",
     "text": [
      "Carregando 20230310_Recursos_csv_2023.csv\n",
      "Carregado, memória utilizada após carga: 6.08MB\n",
      "Carregando 20230310_Recursos_csv_2019.csv\n",
      "Carregado, memória utilizada após carga: 53.02MB\n",
      "Carregando 20230310_Recursos_csv_2021.csv\n",
      "Carregado, memória utilizada após carga: 95.19MB\n",
      "Carregando 20230310_Recursos_csv_2016.csv\n",
      "Carregado, memória utilizada após carga: 130.07MB\n",
      "Carregando 20230310_Recursos_csv_2022.csv\n",
      "Carregado, memória utilizada após carga: 169.43MB\n",
      "Carregando 20230310_Recursos_csv_2018.csv\n",
      "Carregado, memória utilizada após carga: 212.29MB\n",
      "Carregando 20230310_Recursos_csv_2020.csv\n",
      "Carregado, memória utilizada após carga: 265.54MB\n",
      "Carregando 20230310_Recursos_csv_2017.csv\n",
      "Carregado, memória utilizada após carga: 306.63MB\n",
      "Carregando 20230310_Recursos_csv_2015.csv\n",
      "Carregado, memória utilizada após carga: 336.13MB\n",
      "CPU times: user 2.47 s, sys: 812 ms, total: 3.28 s\n",
      "Wall time: 3.28 s\n"
     ]
    }
   ],
   "source": [
    "%%time\n",
    "df = Recursos.carrega_arquivos_csv_df('csvs_txts', header_recursos=recurso_header_txts)\n"
   ]
  },
  {
   "cell_type": "code",
   "execution_count": 21,
   "id": "8a2a5427-c6c7-4223-a177-10878000d48a",
   "metadata": {
    "tags": []
   },
   "outputs": [],
   "source": [
    "df['AnoRegistro'] = df['DataRegistro'].dt.year"
   ]
  },
  {
   "cell_type": "code",
   "execution_count": 22,
   "id": "434a19f6-f69d-44fc-8652-404ff6162497",
   "metadata": {
    "tags": []
   },
   "outputs": [],
   "source": [
    "df.to_pickle('dados/recursos_texto.pkl')"
   ]
  }
 ],
 "metadata": {
  "kernelspec": {
   "display_name": "Python 3 (ipykernel)",
   "language": "python",
   "name": "python3"
  },
  "language_info": {
   "codemirror_mode": {
    "name": "ipython",
    "version": 3
   },
   "file_extension": ".py",
   "mimetype": "text/x-python",
   "name": "python",
   "nbconvert_exporter": "python",
   "pygments_lexer": "ipython3",
   "version": "3.10.7"
  }
 },
 "nbformat": 4,
 "nbformat_minor": 5
}
