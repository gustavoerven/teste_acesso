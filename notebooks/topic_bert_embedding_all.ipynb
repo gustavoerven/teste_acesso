{
 "cells": [
  {
   "cell_type": "code",
   "execution_count": 1,
   "id": "bd9e03cf-3f3e-48bb-8750-e43c18d7b43a",
   "metadata": {
    "tags": []
   },
   "outputs": [
    {
     "name": "stderr",
     "output_type": "stream",
     "text": [
      "2023-03-22 23:37:05.564533: I tensorflow/core/platform/cpu_feature_guard.cc:193] This TensorFlow binary is optimized with oneAPI Deep Neural Network Library (oneDNN) to use the following CPU instructions in performance-critical operations:  AVX2 FMA\n",
      "To enable them in other operations, rebuild TensorFlow with the appropriate compiler flags.\n",
      "2023-03-22 23:37:18.047597: W tensorflow/compiler/xla/stream_executor/platform/default/dso_loader.cc:64] Could not load dynamic library 'libnvinfer.so.7'; dlerror: libnvinfer.so.7: cannot open shared object file: No such file or directory\n",
      "2023-03-22 23:37:18.047770: W tensorflow/compiler/xla/stream_executor/platform/default/dso_loader.cc:64] Could not load dynamic library 'libnvinfer_plugin.so.7'; dlerror: libnvinfer_plugin.so.7: cannot open shared object file: No such file or directory\n",
      "2023-03-22 23:37:18.047780: W tensorflow/compiler/tf2tensorrt/utils/py_utils.cc:38] TF-TRT Warning: Cannot dlopen some TensorRT libraries. If you would like to use Nvidia GPU with TensorRT, please make sure the missing libraries mentioned above are installed properly.\n"
     ]
    }
   ],
   "source": [
    "#https://towardsdatascience.com/topic-modeling-with-bert-779f7db187e6\n",
    "import pandas as pd\n",
    "from sentence_transformers import SentenceTransformer\n",
    "import umap\n",
    "import hdbscan\n",
    "import matplotlib.pyplot as plt\n",
    "import numpy as np\n",
    "from sklearn.feature_extraction.text import CountVectorizer\n",
    "import nltk\n",
    "import pickle\n"
   ]
  },
  {
   "cell_type": "code",
   "execution_count": 2,
   "id": "4208d80e-416e-459c-bcd8-60186d9b409b",
   "metadata": {
    "tags": []
   },
   "outputs": [
    {
     "data": {
      "text/html": [
       "<div>\n",
       "<style scoped>\n",
       "    .dataframe tbody tr th:only-of-type {\n",
       "        vertical-align: middle;\n",
       "    }\n",
       "\n",
       "    .dataframe tbody tr th {\n",
       "        vertical-align: top;\n",
       "    }\n",
       "\n",
       "    .dataframe thead th {\n",
       "        text-align: right;\n",
       "    }\n",
       "</style>\n",
       "<table border=\"1\" class=\"dataframe\">\n",
       "  <thead>\n",
       "    <tr style=\"text-align: right;\">\n",
       "      <th></th>\n",
       "      <th>IdPedido</th>\n",
       "      <th>TextoPedidoAgrupado</th>\n",
       "    </tr>\n",
       "  </thead>\n",
       "  <tbody>\n",
       "    <tr>\n",
       "      <th>0</th>\n",
       "      <td>1678719</td>\n",
       "      <td>consultar meu cpf . no spc e serasa Consulta d...</td>\n",
       "    </tr>\n",
       "    <tr>\n",
       "      <th>1</th>\n",
       "      <td>1678723</td>\n",
       "      <td>Esclarecimentos sobre seguro de risco de incên...</td>\n",
       "    </tr>\n",
       "    <tr>\n",
       "      <th>2</th>\n",
       "      <td>1678726</td>\n",
       "      <td>SALDO PASEP Bom dia,   necessito do saldo do P...</td>\n",
       "    </tr>\n",
       "    <tr>\n",
       "      <th>3</th>\n",
       "      <td>1678739</td>\n",
       "      <td>cópia termo de convenio em MCIDADES e prefeitu...</td>\n",
       "    </tr>\n",
       "    <tr>\n",
       "      <th>4</th>\n",
       "      <td>1678747</td>\n",
       "      <td>cópia termo de convenio em MCIDADES e prefeitu...</td>\n",
       "    </tr>\n",
       "  </tbody>\n",
       "</table>\n",
       "</div>"
      ],
      "text/plain": [
       "   IdPedido                                TextoPedidoAgrupado\n",
       "0   1678719  consultar meu cpf . no spc e serasa Consulta d...\n",
       "1   1678723  Esclarecimentos sobre seguro de risco de incên...\n",
       "2   1678726  SALDO PASEP Bom dia,   necessito do saldo do P...\n",
       "3   1678739  cópia termo de convenio em MCIDADES e prefeitu...\n",
       "4   1678747  cópia termo de convenio em MCIDADES e prefeitu..."
      ]
     },
     "execution_count": 2,
     "metadata": {},
     "output_type": "execute_result"
    }
   ],
   "source": [
    "df_pedidos = pd.read_pickle('dados/pedidos_texto.pkl') #.sample(1000)\n",
    "df_pedidos_txt = pd.DataFrame({'IdPedido': df_pedidos['IdPedido'], 'TextoPedidoAgrupado': df_pedidos['ResumoSolicitacao'].fillna('') + ' ' + df_pedidos['DetalhamentoSolicitacao'].fillna('')})\n",
    "df_pedidos_txt.head()\n"
   ]
  },
  {
   "cell_type": "code",
   "execution_count": 15,
   "id": "fde686ff-bb2f-4116-adce-25240e223372",
   "metadata": {
    "tags": []
   },
   "outputs": [
    {
     "data": {
      "text/html": [
       "<div>\n",
       "<style scoped>\n",
       "    .dataframe tbody tr th:only-of-type {\n",
       "        vertical-align: middle;\n",
       "    }\n",
       "\n",
       "    .dataframe tbody tr th {\n",
       "        vertical-align: top;\n",
       "    }\n",
       "\n",
       "    .dataframe thead th {\n",
       "        text-align: right;\n",
       "    }\n",
       "</style>\n",
       "<table border=\"1\" class=\"dataframe\">\n",
       "  <thead>\n",
       "    <tr style=\"text-align: right;\">\n",
       "      <th></th>\n",
       "      <th>idEnunciado</th>\n",
       "      <th>nrEnunciado</th>\n",
       "      <th>enunciado</th>\n",
       "      <th>detalhamento</th>\n",
       "      <th>idGrupoEnunciado</th>\n",
       "    </tr>\n",
       "  </thead>\n",
       "  <tbody>\n",
       "    <tr>\n",
       "      <th>0</th>\n",
       "      <td>1</td>\n",
       "      <td>1/2023</td>\n",
       "      <td>Enunciado CGU n. 1/2023 - Registros de entrada...</td>\n",
       "      <td>Os registros de entrada e saída de pessoas em ...</td>\n",
       "      <td>1</td>\n",
       "    </tr>\n",
       "    <tr>\n",
       "      <th>1</th>\n",
       "      <td>2</td>\n",
       "      <td>2/2023</td>\n",
       "      <td>Enunciado CGU n. 2/2023 - Registros de entrada...</td>\n",
       "      <td>Os registros de entrada e saída de pessoas em ...</td>\n",
       "      <td>1</td>\n",
       "    </tr>\n",
       "    <tr>\n",
       "      <th>2</th>\n",
       "      <td>3</td>\n",
       "      <td>3/2023</td>\n",
       "      <td>Enunciado CGU n. 3/2023 - Procedimentos discip...</td>\n",
       "      <td>Aplicam-se aos pedidos de acesso a processos a...</td>\n",
       "      <td>1</td>\n",
       "    </tr>\n",
       "    <tr>\n",
       "      <th>3</th>\n",
       "      <td>4</td>\n",
       "      <td>4/2023</td>\n",
       "      <td>Enunciado CGU n. 4/2023 - Segurança do Preside...</td>\n",
       "      <td>Durante o mandato presidencial, a classificaçã...</td>\n",
       "      <td>2</td>\n",
       "    </tr>\n",
       "    <tr>\n",
       "      <th>4</th>\n",
       "      <td>5</td>\n",
       "      <td>5/2023</td>\n",
       "      <td>Enunciado CGU n. 5/2023 - Sigilo de licitações...</td>\n",
       "      <td>Informações sobre licitações, contratos e gast...</td>\n",
       "      <td>2</td>\n",
       "    </tr>\n",
       "    <tr>\n",
       "      <th>5</th>\n",
       "      <td>6</td>\n",
       "      <td>6/2023</td>\n",
       "      <td>Enunciado CGU n. 6/2023 - Abertura de informaç...</td>\n",
       "      <td>Transcorrido o prazo de classificação da infor...</td>\n",
       "      <td>3</td>\n",
       "    </tr>\n",
       "    <tr>\n",
       "      <th>6</th>\n",
       "      <td>7</td>\n",
       "      <td>7/2023</td>\n",
       "      <td>Enunciado CGU n. 7/2023 - Títulos acadêmicos e...</td>\n",
       "      <td>Informações sobre currículos de agentes públic...</td>\n",
       "      <td>1</td>\n",
       "    </tr>\n",
       "    <tr>\n",
       "      <th>7</th>\n",
       "      <td>8</td>\n",
       "      <td>8/2023</td>\n",
       "      <td>Enunciado CGU n. 8/2023 - Provas e concursos p...</td>\n",
       "      <td>A divulgação de documentos e informações relac...</td>\n",
       "      <td>1</td>\n",
       "    </tr>\n",
       "    <tr>\n",
       "      <th>8</th>\n",
       "      <td>9</td>\n",
       "      <td>9/2023</td>\n",
       "      <td>Enunciado CGU n. 9/2023 - Telegramas, despacho...</td>\n",
       "      <td>Os telegramas, despachos e circulares telegráf...</td>\n",
       "      <td>1</td>\n",
       "    </tr>\n",
       "    <tr>\n",
       "      <th>9</th>\n",
       "      <td>10</td>\n",
       "      <td>10/2023</td>\n",
       "      <td>Enunciado CGU n. 10/2023 - Informações finance...</td>\n",
       "      <td>Informações referentes a valores de benefícios...</td>\n",
       "      <td>1</td>\n",
       "    </tr>\n",
       "    <tr>\n",
       "      <th>10</th>\n",
       "      <td>11</td>\n",
       "      <td>11/2023</td>\n",
       "      <td>Enunciado CGU n. 11/2023 - Restrições de acess...</td>\n",
       "      <td>Pedidos de acesso à informação somente podem s...</td>\n",
       "      <td>4</td>\n",
       "    </tr>\n",
       "    <tr>\n",
       "      <th>11</th>\n",
       "      <td>12</td>\n",
       "      <td>12/2023</td>\n",
       "      <td>Enunciado CGU n. 12/2023 - Informação pessoal</td>\n",
       "      <td>O fundamento “informações pessoais” não pode s...</td>\n",
       "      <td>1</td>\n",
       "    </tr>\n",
       "  </tbody>\n",
       "</table>\n",
       "</div>"
      ],
      "text/plain": [
       "    idEnunciado nrEnunciado  \\\n",
       "0             1      1/2023   \n",
       "1             2      2/2023   \n",
       "2             3      3/2023   \n",
       "3             4      4/2023   \n",
       "4             5      5/2023   \n",
       "5             6      6/2023   \n",
       "6             7      7/2023   \n",
       "7             8      8/2023   \n",
       "8             9      9/2023   \n",
       "9            10     10/2023   \n",
       "10           11     11/2023   \n",
       "11           12     12/2023   \n",
       "\n",
       "                                            enunciado  \\\n",
       "0   Enunciado CGU n. 1/2023 - Registros de entrada...   \n",
       "1   Enunciado CGU n. 2/2023 - Registros de entrada...   \n",
       "2   Enunciado CGU n. 3/2023 - Procedimentos discip...   \n",
       "3   Enunciado CGU n. 4/2023 - Segurança do Preside...   \n",
       "4   Enunciado CGU n. 5/2023 - Sigilo de licitações...   \n",
       "5   Enunciado CGU n. 6/2023 - Abertura de informaç...   \n",
       "6   Enunciado CGU n. 7/2023 - Títulos acadêmicos e...   \n",
       "7   Enunciado CGU n. 8/2023 - Provas e concursos p...   \n",
       "8   Enunciado CGU n. 9/2023 - Telegramas, despacho...   \n",
       "9   Enunciado CGU n. 10/2023 - Informações finance...   \n",
       "10  Enunciado CGU n. 11/2023 - Restrições de acess...   \n",
       "11      Enunciado CGU n. 12/2023 - Informação pessoal   \n",
       "\n",
       "                                         detalhamento  idGrupoEnunciado  \n",
       "0   Os registros de entrada e saída de pessoas em ...                 1  \n",
       "1   Os registros de entrada e saída de pessoas em ...                 1  \n",
       "2   Aplicam-se aos pedidos de acesso a processos a...                 1  \n",
       "3   Durante o mandato presidencial, a classificaçã...                 2  \n",
       "4   Informações sobre licitações, contratos e gast...                 2  \n",
       "5   Transcorrido o prazo de classificação da infor...                 3  \n",
       "6   Informações sobre currículos de agentes públic...                 1  \n",
       "7   A divulgação de documentos e informações relac...                 1  \n",
       "8   Os telegramas, despachos e circulares telegráf...                 1  \n",
       "9   Informações referentes a valores de benefícios...                 1  \n",
       "10  Pedidos de acesso à informação somente podem s...                 4  \n",
       "11  O fundamento “informações pessoais” não pode s...                 1  "
      ]
     },
     "execution_count": 15,
     "metadata": {},
     "output_type": "execute_result"
    }
   ],
   "source": [
    "enunciados = pd.read_excel('dados/enunciados.xlsx', sheet_name=0)\n",
    "enunciados"
   ]
  },
  {
   "cell_type": "code",
   "execution_count": 19,
   "id": "d3835ef8-5f1f-4b1d-ab31-08ebb5743487",
   "metadata": {
    "tags": []
   },
   "outputs": [],
   "source": [
    "enunciados['resumo'] = enunciados['enunciado'].apply(lambda txt: txt.split('-')[1].strip() + '.')"
   ]
  },
  {
   "cell_type": "code",
   "execution_count": 21,
   "id": "925b16a8-61a4-4197-9ef7-03cb24a3eace",
   "metadata": {
    "tags": []
   },
   "outputs": [
    {
     "data": {
      "text/html": [
       "<div>\n",
       "<style scoped>\n",
       "    .dataframe tbody tr th:only-of-type {\n",
       "        vertical-align: middle;\n",
       "    }\n",
       "\n",
       "    .dataframe tbody tr th {\n",
       "        vertical-align: top;\n",
       "    }\n",
       "\n",
       "    .dataframe thead th {\n",
       "        text-align: right;\n",
       "    }\n",
       "</style>\n",
       "<table border=\"1\" class=\"dataframe\">\n",
       "  <thead>\n",
       "    <tr style=\"text-align: right;\">\n",
       "      <th></th>\n",
       "      <th>idEnunciado</th>\n",
       "      <th>txtAgrupado</th>\n",
       "    </tr>\n",
       "  </thead>\n",
       "  <tbody>\n",
       "    <tr>\n",
       "      <th>0</th>\n",
       "      <td>1</td>\n",
       "      <td>Registros de entrada e saída de prédios públic...</td>\n",
       "    </tr>\n",
       "    <tr>\n",
       "      <th>1</th>\n",
       "      <td>2</td>\n",
       "      <td>Registros de entrada e saída de residências of...</td>\n",
       "    </tr>\n",
       "    <tr>\n",
       "      <th>2</th>\n",
       "      <td>3</td>\n",
       "      <td>Procedimentos disciplinares de militares. Apli...</td>\n",
       "    </tr>\n",
       "    <tr>\n",
       "      <th>3</th>\n",
       "      <td>4</td>\n",
       "      <td>Segurança do Presidente da República e familia...</td>\n",
       "    </tr>\n",
       "    <tr>\n",
       "      <th>4</th>\n",
       "      <td>5</td>\n",
       "      <td>Sigilo de licitações, contratos e gastos gover...</td>\n",
       "    </tr>\n",
       "    <tr>\n",
       "      <th>5</th>\n",
       "      <td>6</td>\n",
       "      <td>Abertura de informações desclassificadas. Tran...</td>\n",
       "    </tr>\n",
       "    <tr>\n",
       "      <th>6</th>\n",
       "      <td>7</td>\n",
       "      <td>Títulos acadêmicos e currículos de agentes púb...</td>\n",
       "    </tr>\n",
       "    <tr>\n",
       "      <th>7</th>\n",
       "      <td>8</td>\n",
       "      <td>Provas e concursos públicos. A divulgação de d...</td>\n",
       "    </tr>\n",
       "    <tr>\n",
       "      <th>8</th>\n",
       "      <td>9</td>\n",
       "      <td>Telegramas, despachos telegráficos e as circul...</td>\n",
       "    </tr>\n",
       "    <tr>\n",
       "      <th>9</th>\n",
       "      <td>10</td>\n",
       "      <td>Informações financeiras a respeito de programa...</td>\n",
       "    </tr>\n",
       "    <tr>\n",
       "      <th>10</th>\n",
       "      <td>11</td>\n",
       "      <td>Restrições de acesso em virtude da desarrazoab...</td>\n",
       "    </tr>\n",
       "    <tr>\n",
       "      <th>11</th>\n",
       "      <td>12</td>\n",
       "      <td>Informação pessoal. O fundamento “informações ...</td>\n",
       "    </tr>\n",
       "  </tbody>\n",
       "</table>\n",
       "</div>"
      ],
      "text/plain": [
       "    idEnunciado                                        txtAgrupado\n",
       "0             1  Registros de entrada e saída de prédios públic...\n",
       "1             2  Registros de entrada e saída de residências of...\n",
       "2             3  Procedimentos disciplinares de militares. Apli...\n",
       "3             4  Segurança do Presidente da República e familia...\n",
       "4             5  Sigilo de licitações, contratos e gastos gover...\n",
       "5             6  Abertura de informações desclassificadas. Tran...\n",
       "6             7  Títulos acadêmicos e currículos de agentes púb...\n",
       "7             8  Provas e concursos públicos. A divulgação de d...\n",
       "8             9  Telegramas, despachos telegráficos e as circul...\n",
       "9            10  Informações financeiras a respeito de programa...\n",
       "10           11  Restrições de acesso em virtude da desarrazoab...\n",
       "11           12  Informação pessoal. O fundamento “informações ..."
      ]
     },
     "execution_count": 21,
     "metadata": {},
     "output_type": "execute_result"
    }
   ],
   "source": [
    "enunciados['txtAgrupado'] = enunciados['resumo'] + ' ' + enunciados['detalhamento']\n",
    "enunciados[['idEnunciado', 'txtAgrupado']]\n"
   ]
  },
  {
   "cell_type": "code",
   "execution_count": 23,
   "id": "a0ff3fd8-8b2b-4bd1-81b4-e55b6d5228f4",
   "metadata": {
    "tags": []
   },
   "outputs": [
    {
     "data": {
      "application/vnd.jupyter.widget-view+json": {
       "model_id": "95abe91ce72b41be86adab5eb4a76c44",
       "version_major": 2,
       "version_minor": 0
      },
      "text/plain": [
       "Downloading (…)aacb4/.gitattributes:   0%|          | 0.00/1.48k [00:00<?, ?B/s]"
      ]
     },
     "metadata": {},
     "output_type": "display_data"
    },
    {
     "data": {
      "application/vnd.jupyter.widget-view+json": {
       "model_id": "02ea486b32e844188a851c96ab62672e",
       "version_major": 2,
       "version_minor": 0
      },
      "text/plain": [
       "Downloading (…)_Pooling/config.json:   0%|          | 0.00/191 [00:00<?, ?B/s]"
      ]
     },
     "metadata": {},
     "output_type": "display_data"
    },
    {
     "data": {
      "application/vnd.jupyter.widget-view+json": {
       "model_id": "e24cbdcb05a448a2b3f47ef1ccf7a9a4",
       "version_major": 2,
       "version_minor": 0
      },
      "text/plain": [
       "Downloading (…)9026faacb4/README.md:   0%|          | 0.00/7.08k [00:00<?, ?B/s]"
      ]
     },
     "metadata": {},
     "output_type": "display_data"
    },
    {
     "data": {
      "application/vnd.jupyter.widget-view+json": {
       "model_id": "2c3ef39f2370466cbdc21dff7fb8a71e",
       "version_major": 2,
       "version_minor": 0
      },
      "text/plain": [
       "Downloading (…)26faacb4/config.json:   0%|          | 0.00/866 [00:00<?, ?B/s]"
      ]
     },
     "metadata": {},
     "output_type": "display_data"
    },
    {
     "data": {
      "application/vnd.jupyter.widget-view+json": {
       "model_id": "0b1d2dee3aa949f2b0a9d9292e87493a",
       "version_major": 2,
       "version_minor": 0
      },
      "text/plain": [
       "Downloading (…)ce_transformers.json:   0%|          | 0.00/124 [00:00<?, ?B/s]"
      ]
     },
     "metadata": {},
     "output_type": "display_data"
    },
    {
     "data": {
      "application/vnd.jupyter.widget-view+json": {
       "model_id": "c672ca335fd84ea685f944a7c140795a",
       "version_major": 2,
       "version_minor": 0
      },
      "text/plain": [
       "Downloading pytorch_model.bin:   0%|          | 0.00/1.34G [00:00<?, ?B/s]"
      ]
     },
     "metadata": {},
     "output_type": "display_data"
    },
    {
     "data": {
      "application/vnd.jupyter.widget-view+json": {
       "model_id": "8e1326873b344cb8b67d10758aeb6e04",
       "version_major": 2,
       "version_minor": 0
      },
      "text/plain": [
       "Downloading (…)nce_bert_config.json:   0%|          | 0.00/53.0 [00:00<?, ?B/s]"
      ]
     },
     "metadata": {},
     "output_type": "display_data"
    },
    {
     "data": {
      "application/vnd.jupyter.widget-view+json": {
       "model_id": "ec927bf1c5084ee396dc5d1948a8a9bd",
       "version_major": 2,
       "version_minor": 0
      },
      "text/plain": [
       "Downloading (…)cial_tokens_map.json:   0%|          | 0.00/125 [00:00<?, ?B/s]"
      ]
     },
     "metadata": {},
     "output_type": "display_data"
    },
    {
     "data": {
      "application/vnd.jupyter.widget-view+json": {
       "model_id": "dd2b5902740e4e99bda0dfc4fe7459f9",
       "version_major": 2,
       "version_minor": 0
      },
      "text/plain": [
       "Downloading (…)aacb4/tokenizer.json:   0%|          | 0.00/678k [00:00<?, ?B/s]"
      ]
     },
     "metadata": {},
     "output_type": "display_data"
    },
    {
     "data": {
      "application/vnd.jupyter.widget-view+json": {
       "model_id": "5483befb988a4abdb1e48e4a004e322a",
       "version_major": 2,
       "version_minor": 0
      },
      "text/plain": [
       "Downloading (…)okenizer_config.json:   0%|          | 0.00/575 [00:00<?, ?B/s]"
      ]
     },
     "metadata": {},
     "output_type": "display_data"
    },
    {
     "data": {
      "application/vnd.jupyter.widget-view+json": {
       "model_id": "4236091b6a7e41a4a5470c4ccdcd9a23",
       "version_major": 2,
       "version_minor": 0
      },
      "text/plain": [
       "Downloading (…)9026faacb4/vocab.txt:   0%|          | 0.00/210k [00:00<?, ?B/s]"
      ]
     },
     "metadata": {},
     "output_type": "display_data"
    },
    {
     "data": {
      "application/vnd.jupyter.widget-view+json": {
       "model_id": "eda0970cf82645b9ac9e9d38bbed2995",
       "version_major": 2,
       "version_minor": 0
      },
      "text/plain": [
       "Downloading (…)6faacb4/modules.json:   0%|          | 0.00/229 [00:00<?, ?B/s]"
      ]
     },
     "metadata": {},
     "output_type": "display_data"
    }
   ],
   "source": [
    "#model = SentenceTransformer('rufimelo/Legal-BERTimbau-sts-base-ma-v2')\n",
    "#model = SentenceTransformer('nreimers/MiniLM-L6-H384-uncased')\n",
    "model = SentenceTransformer('rufimelo/Legal-BERTimbau-large-GPL-sts')\n"
   ]
  },
  {
   "cell_type": "code",
   "execution_count": 24,
   "id": "194d5b13-441c-466b-bafe-f156e760a41f",
   "metadata": {
    "tags": []
   },
   "outputs": [
    {
     "data": {
      "application/vnd.jupyter.widget-view+json": {
       "model_id": "2a3f4587c6d145a7a57550512f9ea63b",
       "version_major": 2,
       "version_minor": 0
      },
      "text/plain": [
       "Batches:   0%|          | 0/1 [00:00<?, ?it/s]"
      ]
     },
     "metadata": {},
     "output_type": "display_data"
    }
   ],
   "source": [
    "embeddings_enunciados = model.encode(list(enunciados['txtAgrupado']), show_progress_bar=True)\n"
   ]
  },
  {
   "cell_type": "code",
   "execution_count": 4,
   "id": "9a970335-8689-4a92-be9a-2fae95f0b445",
   "metadata": {
    "tags": []
   },
   "outputs": [
    {
     "data": {
      "application/vnd.jupyter.widget-view+json": {
       "model_id": "13e7dddccea54708b9f4c9f855fd5bd1",
       "version_major": 2,
       "version_minor": 0
      },
      "text/plain": [
       "Batches:   0%|          | 0/21969 [00:00<?, ?it/s]"
      ]
     },
     "metadata": {},
     "output_type": "display_data"
    }
   ],
   "source": [
    "embeddings = model.encode(list(df_pedidos_txt['TextoPedidoAgrupado']), show_progress_bar=True)\n"
   ]
  },
  {
   "cell_type": "code",
   "execution_count": 5,
   "id": "c06818d6-a67e-41ee-9c30-8a5458132bc9",
   "metadata": {
    "tags": []
   },
   "outputs": [
    {
     "data": {
      "text/plain": [
       "(703004, 384)"
      ]
     },
     "execution_count": 5,
     "metadata": {},
     "output_type": "execute_result"
    }
   ],
   "source": [
    "embeddings.shape\n"
   ]
  },
  {
   "cell_type": "code",
   "execution_count": 9,
   "id": "22f8312f-59ce-4dd6-b26c-34feba00a2c9",
   "metadata": {
    "tags": []
   },
   "outputs": [],
   "source": [
    "np.save('embeddings_MiniLM-L6-H384-uncased_all_ai.emb', embeddings)\n"
   ]
  },
  {
   "cell_type": "code",
   "execution_count": 3,
   "id": "342ae855-cdb5-4a64-b8b2-b50adeb0f03e",
   "metadata": {
    "tags": []
   },
   "outputs": [],
   "source": [
    "embeddings = np.load('embeddings_MiniLM-L6-H384-uncased_all_ai.emb.npy')"
   ]
  },
  {
   "cell_type": "code",
   "execution_count": null,
   "id": "e3b92f1d-885e-4966-b2a6-ba8d58920d65",
   "metadata": {
    "tags": []
   },
   "outputs": [],
   "source": [
    "umap_embeddings = umap.UMAP(n_neighbors=15, \n",
    "                            n_components=5, \n",
    "                            metric='cosine').fit_transform(embeddings)"
   ]
  },
  {
   "cell_type": "code",
   "execution_count": null,
   "id": "61b4d223-0d9a-4138-98f3-45920713bcf1",
   "metadata": {
    "tags": []
   },
   "outputs": [],
   "source": [
    "umap_embeddings.shape"
   ]
  },
  {
   "cell_type": "code",
   "execution_count": 68,
   "id": "327e3556-18f2-49a7-827a-9d604e9bd1f2",
   "metadata": {
    "tags": []
   },
   "outputs": [],
   "source": [
    "cluster = hdbscan.HDBSCAN(min_cluster_size=15,\n",
    "                          metric='euclidean',                      \n",
    "                          cluster_selection_method='eom').fit(umap_embeddings)"
   ]
  },
  {
   "cell_type": "code",
   "execution_count": 69,
   "id": "a313e070-4838-4e85-9f3f-7e04d1e5c19d",
   "metadata": {
    "tags": []
   },
   "outputs": [
    {
     "data": {
      "text/plain": [
       "<matplotlib.colorbar.Colorbar at 0x7f6aecd23c70>"
      ]
     },
     "execution_count": 69,
     "metadata": {},
     "output_type": "execute_result"
    },
    {
     "data": {
      "image/png": "[encoded data removed]",
      "text/plain": [
       "<Figure size 1000x500 with 2 Axes>"
      ]
     },
     "metadata": {},
     "output_type": "display_data"
    }
   ],
   "source": [
    "# Prepare data\n",
    "umap_data = umap.UMAP(n_neighbors=15, n_components=2, min_dist=0.0, metric='cosine').fit_transform(embeddings)\n",
    "result = pd.DataFrame(umap_data, columns=['x', 'y'])\n",
    "result['labels'] = cluster.labels_\n",
    "\n",
    "# Visualize clusters\n",
    "fig, ax = plt.subplots(figsize=(10, 5))\n",
    "outliers = result.loc[result.labels == -1, :]\n",
    "clustered = result.loc[result.labels != -1, :]\n",
    "plt.scatter(outliers.x, outliers.y, color='#BDBDBD', s=0.05)\n",
    "plt.scatter(clustered.x, clustered.y, c=clustered.labels, s=0.05, cmap='hsv_r')\n",
    "plt.colorbar()"
   ]
  },
  {
   "cell_type": "code",
   "execution_count": 70,
   "id": "cffd6280-a086-4752-a1d7-d20e16b0af8b",
   "metadata": {
    "tags": []
   },
   "outputs": [],
   "source": [
    "df_pedidos_txt['Topic'] = cluster.labels_\n",
    "docs_per_topic = df_pedidos_txt.groupby(['Topic'], as_index = False).agg({'TextoPedidoAgrupado': ' '.join})\n"
   ]
  },
  {
   "cell_type": "code",
   "execution_count": 71,
   "id": "372ce536-b88b-4502-b9aa-3a5b37ba5fdb",
   "metadata": {
    "tags": []
   },
   "outputs": [
    {
     "data": {
      "text/plain": [
       "-1    495\n",
       " 0    164\n",
       " 8     92\n",
       " 2     47\n",
       " 1     42\n",
       " 3     41\n",
       " 7     36\n",
       " 4     34\n",
       " 6     34\n",
       " 5     15\n",
       "Name: Topic, dtype: int64"
      ]
     },
     "execution_count": 71,
     "metadata": {},
     "output_type": "execute_result"
    }
   ],
   "source": [
    "df_pedidos_txt['Topic'].value_counts()"
   ]
  },
  {
   "cell_type": "code",
   "execution_count": 72,
   "id": "e83a6677-3243-4afa-b606-ccc51d283926",
   "metadata": {
    "tags": []
   },
   "outputs": [
    {
     "data": {
      "text/html": [
       "<div>\n",
       "<style scoped>\n",
       "    .dataframe tbody tr th:only-of-type {\n",
       "        vertical-align: middle;\n",
       "    }\n",
       "\n",
       "    .dataframe tbody tr th {\n",
       "        vertical-align: top;\n",
       "    }\n",
       "\n",
       "    .dataframe thead th {\n",
       "        text-align: right;\n",
       "    }\n",
       "</style>\n",
       "<table border=\"1\" class=\"dataframe\">\n",
       "  <thead>\n",
       "    <tr style=\"text-align: right;\">\n",
       "      <th></th>\n",
       "      <th>Topic</th>\n",
       "      <th>TextoPedidoAgrupado</th>\n",
       "    </tr>\n",
       "  </thead>\n",
       "  <tbody>\n",
       "    <tr>\n",
       "      <th>0</th>\n",
       "      <td>-1</td>\n",
       "      <td>Como obter as Normais Climatológicas (Evapotra...</td>\n",
       "    </tr>\n",
       "    <tr>\n",
       "      <th>1</th>\n",
       "      <td>0</td>\n",
       "      <td>Acesso ao meu INSS  Não consigo acessar o meu ...</td>\n",
       "    </tr>\n",
       "    <tr>\n",
       "      <th>2</th>\n",
       "      <td>1</td>\n",
       "      <td>Declaração final de Espolio de 2019 Como faço ...</td>\n",
       "    </tr>\n",
       "    <tr>\n",
       "      <th>3</th>\n",
       "      <td>2</td>\n",
       "      <td>Cópia de Pareceres Prezados,  Gostaria, por ge...</td>\n",
       "    </tr>\n",
       "    <tr>\n",
       "      <th>4</th>\n",
       "      <td>3</td>\n",
       "      <td>RELAÇÃO ENTIDADES FECHADAS DE PREVIDÊNCIA COMP...</td>\n",
       "    </tr>\n",
       "    <tr>\n",
       "      <th>5</th>\n",
       "      <td>4</td>\n",
       "      <td>Solicitação de declaração  Solicitação para qu...</td>\n",
       "    </tr>\n",
       "    <tr>\n",
       "      <th>6</th>\n",
       "      <td>5</td>\n",
       "      <td>Informações sobre a Unidade de Conservação PAR...</td>\n",
       "    </tr>\n",
       "    <tr>\n",
       "      <th>7</th>\n",
       "      <td>6</td>\n",
       "      <td>info Solicito, por favor, o custo mensal, mes ...</td>\n",
       "    </tr>\n",
       "    <tr>\n",
       "      <th>8</th>\n",
       "      <td>7</td>\n",
       "      <td>Ações orçamentárias de programas alimentares r...</td>\n",
       "    </tr>\n",
       "    <tr>\n",
       "      <th>9</th>\n",
       "      <td>8</td>\n",
       "      <td>eu só tenho só você para perguntar se fiz dire...</td>\n",
       "    </tr>\n",
       "  </tbody>\n",
       "</table>\n",
       "</div>"
      ],
      "text/plain": [
       "   Topic                                TextoPedidoAgrupado\n",
       "0     -1  Como obter as Normais Climatológicas (Evapotra...\n",
       "1      0  Acesso ao meu INSS  Não consigo acessar o meu ...\n",
       "2      1  Declaração final de Espolio de 2019 Como faço ...\n",
       "3      2  Cópia de Pareceres Prezados,  Gostaria, por ge...\n",
       "4      3  RELAÇÃO ENTIDADES FECHADAS DE PREVIDÊNCIA COMP...\n",
       "5      4  Solicitação de declaração  Solicitação para qu...\n",
       "6      5  Informações sobre a Unidade de Conservação PAR...\n",
       "7      6  info Solicito, por favor, o custo mensal, mes ...\n",
       "8      7  Ações orçamentárias de programas alimentares r...\n",
       "9      8  eu só tenho só você para perguntar se fiz dire..."
      ]
     },
     "execution_count": 72,
     "metadata": {},
     "output_type": "execute_result"
    }
   ],
   "source": [
    "docs_per_topic"
   ]
  },
  {
   "cell_type": "code",
   "execution_count": 73,
   "id": "2263cdd7-d24f-4431-919d-1e9614a28dd6",
   "metadata": {
    "tags": []
   },
   "outputs": [],
   "source": [
    "def c_tf_idf(documents, m, ngram_range=(1, 1), stopwords=\"english\"):\n",
    "    count = CountVectorizer(ngram_range=ngram_range, stop_words=stopwords).fit(documents)\n",
    "    t = count.transform(documents).toarray()\n",
    "    w = t.sum(axis=1)\n",
    "    tf = np.divide(t.T, w)\n",
    "    sum_t = t.sum(axis=0)\n",
    "    idf = np.log(np.divide(m, sum_t)).reshape(-1, 1)\n",
    "    tf_idf = np.multiply(tf, idf)\n",
    "\n",
    "    return tf_idf, count\n",
    "  \n",
    "def extract_top_n_words_per_topic(tf_idf, count, docs_per_topic, n=20):\n",
    "    words = count.get_feature_names_out()\n",
    "    labels = list(docs_per_topic.Topic)\n",
    "    tf_idf_transposed = tf_idf.T\n",
    "    indices = tf_idf_transposed.argsort()[:, -n:]\n",
    "    top_n_words = {label: [(words[j], tf_idf_transposed[i][j]) for j in indices[i]][::-1] for i, label in enumerate(labels)}\n",
    "    return top_n_words\n",
    "\n",
    "def extract_topic_sizes(df):\n",
    "    topic_sizes = (df.groupby(['Topic'])\n",
    "                     .Doc\n",
    "                     .count()\n",
    "                     .reset_index()\n",
    "                     .rename({\"Topic\": \"Topic\", \"Doc\": \"Size\"}, axis='columns')\n",
    "                     .sort_values(\"Size\", ascending=False))\n",
    "    return topic_sizes\n"
   ]
  },
  {
   "cell_type": "code",
   "execution_count": 74,
   "id": "ac33fac5-e5ec-4479-8c48-1f136972a024",
   "metadata": {
    "tags": []
   },
   "outputs": [],
   "source": [
    "stopwords = nltk.corpus.stopwords.words('portuguese')\n",
    "tf_idf, count = c_tf_idf(docs_per_topic.TextoPedidoAgrupado.values, m=df_pedidos_txt.shape[0], stopwords=stopwords)\n"
   ]
  },
  {
   "cell_type": "code",
   "execution_count": 75,
   "id": "0c38c4e5-93c1-46e1-901f-82c6bd9ec343",
   "metadata": {
    "tags": []
   },
   "outputs": [
    {
     "data": {
      "text/plain": [
       "(10118, 10)"
      ]
     },
     "execution_count": 75,
     "metadata": {},
     "output_type": "execute_result"
    }
   ],
   "source": [
    "tf_idf.shape"
   ]
  },
  {
   "cell_type": "code",
   "execution_count": 63,
   "id": "386d552b-2d86-4a27-90ab-83992dd07491",
   "metadata": {
    "tags": []
   },
   "outputs": [
    {
     "data": {
      "text/html": [
       "<style>#sk-container-id-5 {color: black;background-color: white;}#sk-container-id-5 pre{padding: 0;}#sk-container-id-5 div.sk-toggleable {background-color: white;}#sk-container-id-5 label.sk-toggleable__label {cursor: pointer;display: block;width: 100%;margin-bottom: 0;padding: 0.3em;box-sizing: border-box;text-align: center;}#sk-container-id-5 label.sk-toggleable__label-arrow:before {content: \"▸\";float: left;margin-right: 0.25em;color: #696969;}#sk-container-id-5 label.sk-toggleable__label-arrow:hover:before {color: black;}#sk-container-id-5 div.sk-estimator:hover label.sk-toggleable__label-arrow:before {color: black;}#sk-container-id-5 div.sk-toggleable__content {max-height: 0;max-width: 0;overflow: hidden;text-align: left;background-color: #f0f8ff;}#sk-container-id-5 div.sk-toggleable__content pre {margin: 0.2em;color: black;border-radius: 0.25em;background-color: #f0f8ff;}#sk-container-id-5 input.sk-toggleable__control:checked~div.sk-toggleable__content {max-height: 200px;max-width: 100%;overflow: auto;}#sk-container-id-5 input.sk-toggleable__control:checked~label.sk-toggleable__label-arrow:before {content: \"▾\";}#sk-container-id-5 div.sk-estimator input.sk-toggleable__control:checked~label.sk-toggleable__label {background-color: #d4ebff;}#sk-container-id-5 div.sk-label input.sk-toggleable__control:checked~label.sk-toggleable__label {background-color: #d4ebff;}#sk-container-id-5 input.sk-hidden--visually {border: 0;clip: rect(1px 1px 1px 1px);clip: rect(1px, 1px, 1px, 1px);height: 1px;margin: -1px;overflow: hidden;padding: 0;position: absolute;width: 1px;}#sk-container-id-5 div.sk-estimator {font-family: monospace;background-color: #f0f8ff;border: 1px dotted black;border-radius: 0.25em;box-sizing: border-box;margin-bottom: 0.5em;}#sk-container-id-5 div.sk-estimator:hover {background-color: #d4ebff;}#sk-container-id-5 div.sk-parallel-item::after {content: \"\";width: 100%;border-bottom: 1px solid gray;flex-grow: 1;}#sk-container-id-5 div.sk-label:hover label.sk-toggleable__label {background-color: #d4ebff;}#sk-container-id-5 div.sk-serial::before {content: \"\";position: absolute;border-left: 1px solid gray;box-sizing: border-box;top: 0;bottom: 0;left: 50%;z-index: 0;}#sk-container-id-5 div.sk-serial {display: flex;flex-direction: column;align-items: center;background-color: white;padding-right: 0.2em;padding-left: 0.2em;position: relative;}#sk-container-id-5 div.sk-item {position: relative;z-index: 1;}#sk-container-id-5 div.sk-parallel {display: flex;align-items: stretch;justify-content: center;background-color: white;position: relative;}#sk-container-id-5 div.sk-item::before, #sk-container-id-5 div.sk-parallel-item::before {content: \"\";position: absolute;border-left: 1px solid gray;box-sizing: border-box;top: 0;bottom: 0;left: 50%;z-index: -1;}#sk-container-id-5 div.sk-parallel-item {display: flex;flex-direction: column;z-index: 1;position: relative;background-color: white;}#sk-container-id-5 div.sk-parallel-item:first-child::after {align-self: flex-end;width: 50%;}#sk-container-id-5 div.sk-parallel-item:last-child::after {align-self: flex-start;width: 50%;}#sk-container-id-5 div.sk-parallel-item:only-child::after {width: 0;}#sk-container-id-5 div.sk-dashed-wrapped {border: 1px dashed gray;margin: 0 0.4em 0.5em 0.4em;box-sizing: border-box;padding-bottom: 0.4em;background-color: white;}#sk-container-id-5 div.sk-label label {font-family: monospace;font-weight: bold;display: inline-block;line-height: 1.2em;}#sk-container-id-5 div.sk-label-container {text-align: center;}#sk-container-id-5 div.sk-container {/* jupyter's `normalize.less` sets `[hidden] { display: none; }` but bootstrap.min.css set `[hidden] { display: none !important; }` so we also need the `!important` here to be able to override the default hidden behavior on the sphinx rendered scikit-learn.org. See: https://github.com/scikit-learn/scikit-learn/issues/21755 */display: inline-block !important;position: relative;}#sk-container-id-5 div.sk-text-repr-fallback {display: none;}</style><div id=\"sk-container-id-5\" class=\"sk-top-container\"><div class=\"sk-text-repr-fallback\"><pre>CountVectorizer(stop_words=[&#x27;a&#x27;, &#x27;à&#x27;, &#x27;ao&#x27;, &#x27;aos&#x27;, &#x27;aquela&#x27;, &#x27;aquelas&#x27;,\n",
       "                            &#x27;aquele&#x27;, &#x27;aqueles&#x27;, &#x27;aquilo&#x27;, &#x27;as&#x27;, &#x27;às&#x27;, &#x27;até&#x27;,\n",
       "                            &#x27;com&#x27;, &#x27;como&#x27;, &#x27;da&#x27;, &#x27;das&#x27;, &#x27;de&#x27;, &#x27;dela&#x27;, &#x27;delas&#x27;,\n",
       "                            &#x27;dele&#x27;, &#x27;deles&#x27;, &#x27;depois&#x27;, &#x27;do&#x27;, &#x27;dos&#x27;, &#x27;e&#x27;, &#x27;é&#x27;,\n",
       "                            &#x27;ela&#x27;, &#x27;elas&#x27;, &#x27;ele&#x27;, &#x27;eles&#x27;, ...])</pre><b>In a Jupyter environment, please rerun this cell to show the HTML representation or trust the notebook. <br />On GitHub, the HTML representation is unable to render, please try loading this page with nbviewer.org.</b></div><div class=\"sk-container\" hidden><div class=\"sk-item\"><div class=\"sk-estimator sk-toggleable\"><input class=\"sk-toggleable__control sk-hidden--visually\" id=\"sk-estimator-id-5\" type=\"checkbox\" checked><label for=\"sk-estimator-id-5\" class=\"sk-toggleable__label sk-toggleable__label-arrow\">CountVectorizer</label><div class=\"sk-toggleable__content\"><pre>CountVectorizer(stop_words=[&#x27;a&#x27;, &#x27;à&#x27;, &#x27;ao&#x27;, &#x27;aos&#x27;, &#x27;aquela&#x27;, &#x27;aquelas&#x27;,\n",
       "                            &#x27;aquele&#x27;, &#x27;aqueles&#x27;, &#x27;aquilo&#x27;, &#x27;as&#x27;, &#x27;às&#x27;, &#x27;até&#x27;,\n",
       "                            &#x27;com&#x27;, &#x27;como&#x27;, &#x27;da&#x27;, &#x27;das&#x27;, &#x27;de&#x27;, &#x27;dela&#x27;, &#x27;delas&#x27;,\n",
       "                            &#x27;dele&#x27;, &#x27;deles&#x27;, &#x27;depois&#x27;, &#x27;do&#x27;, &#x27;dos&#x27;, &#x27;e&#x27;, &#x27;é&#x27;,\n",
       "                            &#x27;ela&#x27;, &#x27;elas&#x27;, &#x27;ele&#x27;, &#x27;eles&#x27;, ...])</pre></div></div></div></div></div>"
      ],
      "text/plain": [
       "CountVectorizer(stop_words=['a', 'à', 'ao', 'aos', 'aquela', 'aquelas',\n",
       "                            'aquele', 'aqueles', 'aquilo', 'as', 'às', 'até',\n",
       "                            'com', 'como', 'da', 'das', 'de', 'dela', 'delas',\n",
       "                            'dele', 'deles', 'depois', 'do', 'dos', 'e', 'é',\n",
       "                            'ela', 'elas', 'ele', 'eles', ...])"
      ]
     },
     "execution_count": 63,
     "metadata": {},
     "output_type": "execute_result"
    }
   ],
   "source": [
    "count"
   ]
  },
  {
   "cell_type": "code",
   "execution_count": 76,
   "id": "8775fdfb-fd0a-4fa9-bc8c-e11e5d4f4300",
   "metadata": {
    "tags": []
   },
   "outputs": [
    {
     "data": {
      "text/html": [
       "<div>\n",
       "<style scoped>\n",
       "    .dataframe tbody tr th:only-of-type {\n",
       "        vertical-align: middle;\n",
       "    }\n",
       "\n",
       "    .dataframe tbody tr th {\n",
       "        vertical-align: top;\n",
       "    }\n",
       "\n",
       "    .dataframe thead th {\n",
       "        text-align: right;\n",
       "    }\n",
       "</style>\n",
       "<table border=\"1\" class=\"dataframe\">\n",
       "  <thead>\n",
       "    <tr style=\"text-align: right;\">\n",
       "      <th></th>\n",
       "      <th>Topic</th>\n",
       "      <th>Size</th>\n",
       "    </tr>\n",
       "  </thead>\n",
       "  <tbody>\n",
       "    <tr>\n",
       "      <th>0</th>\n",
       "      <td>-1</td>\n",
       "      <td>0</td>\n",
       "    </tr>\n",
       "    <tr>\n",
       "      <th>1</th>\n",
       "      <td>0</td>\n",
       "      <td>0</td>\n",
       "    </tr>\n",
       "    <tr>\n",
       "      <th>2</th>\n",
       "      <td>1</td>\n",
       "      <td>0</td>\n",
       "    </tr>\n",
       "    <tr>\n",
       "      <th>3</th>\n",
       "      <td>2</td>\n",
       "      <td>0</td>\n",
       "    </tr>\n",
       "    <tr>\n",
       "      <th>4</th>\n",
       "      <td>3</td>\n",
       "      <td>0</td>\n",
       "    </tr>\n",
       "    <tr>\n",
       "      <th>5</th>\n",
       "      <td>4</td>\n",
       "      <td>0</td>\n",
       "    </tr>\n",
       "    <tr>\n",
       "      <th>6</th>\n",
       "      <td>5</td>\n",
       "      <td>0</td>\n",
       "    </tr>\n",
       "    <tr>\n",
       "      <th>7</th>\n",
       "      <td>6</td>\n",
       "      <td>0</td>\n",
       "    </tr>\n",
       "    <tr>\n",
       "      <th>8</th>\n",
       "      <td>7</td>\n",
       "      <td>0</td>\n",
       "    </tr>\n",
       "  </tbody>\n",
       "</table>\n",
       "</div>"
      ],
      "text/plain": [
       "   Topic  Size\n",
       "0     -1     0\n",
       "1      0     0\n",
       "2      1     0\n",
       "3      2     0\n",
       "4      3     0\n",
       "5      4     0\n",
       "6      5     0\n",
       "7      6     0\n",
       "8      7     0"
      ]
     },
     "execution_count": 76,
     "metadata": {},
     "output_type": "execute_result"
    }
   ],
   "source": [
    "top_n_words = extract_top_n_words_per_topic(tf_idf, count, docs_per_topic, n=20)\n",
    "topic_sizes = extract_topic_sizes(docs_df); topic_sizes.head(10)\n"
   ]
  },
  {
   "cell_type": "code",
   "execution_count": 77,
   "id": "c7a3803a-827f-4367-91d7-3f2fcd1c928c",
   "metadata": {
    "tags": []
   },
   "outputs": [
    {
     "data": {
      "text/plain": [
       "{-1: [('dados', 0.00902704897447434),\n",
       "  ('gostaria', 0.007736957673751313),\n",
       "  ('sobre', 0.007424783749963667),\n",
       "  ('informações', 0.006895365515709053),\n",
       "  ('número', 0.006686987149455712),\n",
       "  ('saber', 0.0066631330145672215),\n",
       "  ('informação', 0.00661153543444811),\n",
       "  ('brasil', 0.006595607053390335),\n",
       "  ('solicito', 0.006490246181026375),\n",
       "  ('lei', 0.006451919951484619),\n",
       "  ('ano', 0.006392833280821476),\n",
       "  ('instituição', 0.006321906290587887),\n",
       "  ('2015', 0.006201051466531209),\n",
       "  ('desde', 0.006063288738474379),\n",
       "  ('prezados', 0.00596892520632388),\n",
       "  ('acesso', 0.005879798557161731),\n",
       "  ('solicitação', 0.005867747264211789),\n",
       "  ('processo', 0.005813365293085424),\n",
       "  ('caso', 0.005743943295288199),\n",
       "  ('pesquisa', 0.005685868149474427)],\n",
       " 0: [('saber', 0.028629094373384244),\n",
       "  ('gostaria', 0.023043028923184935),\n",
       "  ('vagos', 0.022304195615106492),\n",
       "  ('cargos', 0.02180927954876036),\n",
       "  ('número', 0.01882490632329545),\n",
       "  ('solicito', 0.01777976693863591),\n",
       "  ('declaração', 0.017015635060859142),\n",
       "  ('receber', 0.01391303206445455),\n",
       "  ('pis', 0.013904553580999606),\n",
       "  ('olá', 0.013586664818833138),\n",
       "  ('ano', 0.012534440371979483),\n",
       "  ('emergencial', 0.012375007316988467),\n",
       "  ('auxilio', 0.01228749531939084),\n",
       "  ('bom', 0.012053360472060619),\n",
       "  ('auxílio', 0.011852936489384716),\n",
       "  ('cargo', 0.0116952355714737),\n",
       "  ('sobre', 0.011411966846512729),\n",
       "  ('cpf', 0.01092235366801716),\n",
       "  ('numero', 0.01092235366801716),\n",
       "  ('ter', 0.010904239959051515)],\n",
       " 1: [('contrato', 0.04058984730070358),\n",
       "  ('cópia', 0.038810587037506075),\n",
       "  ('copia', 0.03807983116753197),\n",
       "  ('prezados', 0.035486452108115),\n",
       "  ('nº', 0.03333826965585406),\n",
       "  ('solução', 0.03057446856307467),\n",
       "  ('processo', 0.028386608395619368),\n",
       "  ('diesel', 0.027321739971984418),\n",
       "  ('15', 0.026409912146899167),\n",
       "  ('gentileza', 0.023997855328870422),\n",
       "  ('solicito', 0.02391233257956144),\n",
       "  ('anexos', 0.022977432417773103),\n",
       "  ('aditivos', 0.022428331524058355),\n",
       "  ('copias', 0.022115330779154525),\n",
       "  ('íntegra', 0.02089197866717301),\n",
       "  ('contratual', 0.019339040336324307),\n",
       "  ('vagas', 0.018455410898468652),\n",
       "  ('parecer', 0.017903376328399057),\n",
       "  ('inscrição', 0.01709758858224384),\n",
       "  ('tarde', 0.01677774448804872)],\n",
       " 2: [('processo', 0.04330043499011898),\n",
       "  ('cópia', 0.04312527353337717),\n",
       "  ('48500', 0.03761144629876356),\n",
       "  ('contrato', 0.025672090486780187),\n",
       "  ('nº', 0.024961681648183152),\n",
       "  ('2011', 0.022836471568362753),\n",
       "  ('08', 0.022378273240099025),\n",
       "  ('contract', 0.02134629684181119),\n",
       "  ('parecer', 0.020981686340357793),\n",
       "  ('administrativo', 0.02055988567733456),\n",
       "  ('aneel', 0.01904322742558903),\n",
       "  ('cda', 0.01842252213681515),\n",
       "  ('pgfn', 0.01842252213681515),\n",
       "  ('08620', 0.01842252213681515),\n",
       "  ('00', 0.018192874098780256),\n",
       "  ('assinados', 0.017788580701509328),\n",
       "  ('001', 0.01725259085510022),\n",
       "  ('prezados', 0.017251318349823543),\n",
       "  ('relatório', 0.017129979874787437),\n",
       "  ('todos', 0.01695443766639981)],\n",
       " 3: [('solicito', 0.027767964499366693),\n",
       "  ('cargos', 0.022707433018549425),\n",
       "  ('produtos', 0.022190190846650124),\n",
       "  ('veterinários', 0.02140101130954359),\n",
       "  ('técnico', 0.021034544112870854),\n",
       "  ('vagos', 0.0203198894524011),\n",
       "  ('estado', 0.01967680175593113),\n",
       "  ('servidores', 0.018490670373838003),\n",
       "  ('terceirizados', 0.017849496844915085),\n",
       "  ('mpes', 0.016887043576494266),\n",
       "  ('administrativos', 0.01667645046600005),\n",
       "  ('serviços', 0.016166400546145612),\n",
       "  ('federal', 0.015981815090828286),\n",
       "  ('bahia', 0.01579279819738729),\n",
       "  ('lista', 0.015378345360121056),\n",
       "  ('assistente', 0.015162879866000565),\n",
       "  ('cópia', 0.015022806041908036),\n",
       "  ('contratação', 0.014456207165248805),\n",
       "  ('laudo', 0.014035795747971806),\n",
       "  ('duração', 0.013387122633686313)],\n",
       " 4: [('federal', 0.015981815090828286),\n",
       "  ('serviço', 0.015216836266475266),\n",
       "  ('portaria', 0.014663390347186714),\n",
       "  ('programa', 0.013999683771231813),\n",
       "  ('afastamento', 0.013387122633686313),\n",
       "  ('exercício', 0.012992553665722866),\n",
       "  ('2014', 0.012848910254475139),\n",
       "  ('improbidade', 0.0126652826823707),\n",
       "  ('chapecó', 0.0126652826823707),\n",
       "  ('plantio', 0.0126652826823707),\n",
       "  ('situacao', 0.0126652826823707),\n",
       "  ('cortesia', 0.0126652826823707),\n",
       "  ('canal', 0.012624435818373839),\n",
       "  ('anos', 0.012089776405115323),\n",
       "  ('visitaram', 0.012038068861618269),\n",
       "  ('milho', 0.012038068861618269),\n",
       "  ('universidade', 0.011974672028830798),\n",
       "  ('provisório', 0.011551564025904149),\n",
       "  ('polo', 0.011551564025904149),\n",
       "  ('realizaram', 0.011551564025904149)],\n",
       " 5: [('aposentadoria', 0.042373367849197686),\n",
       "  ('quantas', 0.037390490713124724),\n",
       "  ('cartão', 0.03630311080678422),\n",
       "  ('penitenciário', 0.031150917786577397),\n",
       "  ('formulários', 0.031150917786577397),\n",
       "  ('ratifica', 0.031150917786577397),\n",
       "  ('bodoquena', 0.031150917786577397),\n",
       "  ('saber', 0.03008688736886252),\n",
       "  ('pra', 0.029799370675305987),\n",
       "  ('temporários', 0.029118511229644248),\n",
       "  ('boa', 0.029107616545257703),\n",
       "  ('vagas', 0.02771549426155994),\n",
       "  ('porém', 0.027441043165117706),\n",
       "  ('grata', 0.027441043165117706),\n",
       "  ('tribo', 0.0265579817872082),\n",
       "  ('serra', 0.025644089271950287),\n",
       "  ('informa', 0.025644089271950287),\n",
       "  ('parque', 0.025644089271950287),\n",
       "  ('tarde', 0.025196051371525793),\n",
       "  ('conservação', 0.0248714041600342)],\n",
       " 6: [('conta', 0.031188119241117942),\n",
       "  ('dia', 0.021744853698789875),\n",
       "  ('fazer', 0.021650613542397387),\n",
       "  ('boa', 0.020789801304660058),\n",
       "  ('tarde', 0.02045000914816679),\n",
       "  ('mei', 0.019643261746551267),\n",
       "  ('saber', 0.019535668120709757),\n",
       "  ('passaporte', 0.01909856634057679),\n",
       "  ('bom', 0.01896859600407847),\n",
       "  ('enem', 0.018347681066654867),\n",
       "  ('duvida', 0.017244320151498897),\n",
       "  ('outro', 0.01665377242074365),\n",
       "  ('gostaria', 0.015623618238862923),\n",
       "  ('banco', 0.014723848564059448),\n",
       "  ('obrigada', 0.014528541804350585),\n",
       "  ('damasco', 0.01418017003331333),\n",
       "  ('preciso', 0.013735121481334597),\n",
       "  ('obter', 0.01349692702647976),\n",
       "  ('ies', 0.013477935519598649),\n",
       "  ('cobrada', 0.013477935519598649)],\n",
       " 7: [('plano', 0.014456800954745372),\n",
       "  ('cidadãos', 0.01378790608598661),\n",
       "  ('município', 0.013100543529257094),\n",
       "  ('editora', 0.011247098896698504),\n",
       "  ('quantos', 0.011232976673782728),\n",
       "  ('portadores', 0.010944421013907748),\n",
       "  ('acesso', 0.010796169951576111),\n",
       "  ('cada', 0.010719125787890289),\n",
       "  ('nacional', 0.010444415325805319),\n",
       "  ('alimentação', 0.010438617724189102),\n",
       "  ('tipo', 0.010396097127105668),\n",
       "  ('lúpus', 0.010008155206928668),\n",
       "  ('informações', 0.00972176203423732),\n",
       "  ('federal', 0.009692535131271758),\n",
       "  ('convênio', 0.009675930372573204),\n",
       "  ('solicitar', 0.00946342446563098),\n",
       "  ('valor', 0.009365978170408294),\n",
       "  ('assentamento', 0.009120350844923124),\n",
       "  ('abc', 0.009120350844923124),\n",
       "  ('programa', 0.00909688556347515)],\n",
       " 8: [('2021', 0.01472014067855284),\n",
       "  ('2020', 0.01412157499769604),\n",
       "  ('2017', 0.011215169638908628),\n",
       "  ('2018', 0.010526295645722834),\n",
       "  ('órgão', 0.009490622934558159),\n",
       "  ('informação', 0.008243510467006936),\n",
       "  ('lei', 0.008171446070272993),\n",
       "  ('pedido', 0.007821475858102455),\n",
       "  ('caso', 0.007755263807641927),\n",
       "  ('acesso', 0.0077368748732222605),\n",
       "  ('ministério', 0.007393220811183441),\n",
       "  ('servidores', 0.006955192018824422),\n",
       "  ('informações', 0.006912371984832802),\n",
       "  ('2019', 0.006887171931648266),\n",
       "  ('nome', 0.006879610051793966),\n",
       "  ('art', 0.00647315652527613),\n",
       "  ('nº', 0.006399325235755957),\n",
       "  ('valor', 0.006397979548139517),\n",
       "  ('quais', 0.0063870595394769315),\n",
       "  ('2e019', 0.006315633454869678)]}"
      ]
     },
     "execution_count": 77,
     "metadata": {},
     "output_type": "execute_result"
    }
   ],
   "source": [
    "top_n_words"
   ]
  }
 ],
 "metadata": {
  "kernelspec": {
   "display_name": "Python 3 (ipykernel)",
   "language": "python",
   "name": "python3"
  },
  "language_info": {
   "codemirror_mode": {
    "name": "ipython",
    "version": 3
   },
   "file_extension": ".py",
   "mimetype": "text/x-python",
   "name": "python",
   "nbconvert_exporter": "python",
   "pygments_lexer": "ipython3",
   "version": "3.10.7"
  }
 },
 "nbformat": 4,
 "nbformat_minor": 5
}
